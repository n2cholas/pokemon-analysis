{
 "cells": [
  {
   "cell_type": "markdown",
   "metadata": {},
   "source": [
    "## Pokemon Tier Modelling"
   ]
  },
  {
   "cell_type": "markdown",
   "metadata": {},
   "source": [
    "Tiers are a way to classify pokemon based on how useful they are in battle. When competing in a particular tier, you can use any pokemon from that tier or below. Pokemon can change tiers based on their usage. For example, if too many players use a particular pokemon in a tier, that pokemon can be promoted to a higher tier. This is done to maintain balance and variety within each tier.\n",
    "\n",
    "Typically, tier evaluations for pokemon are ongoing. However, there is always a big re-evaluation each generation, as new pokemon, items, and mechanics are introduced. Here, we will model pokemon changing tiers as a discrete time markov chain. Since the future tier of a pokemon only depends on its current tier (since that is where it is evaluated), the markov property holds. Although there are many external factors influencing a pokemon's tier, we analyze the transitions irrespective of these factors."
   ]
  },
  {
   "cell_type": "code",
   "execution_count": 1,
   "metadata": {},
   "outputs": [],
   "source": [
    "import numpy as np\n",
    "import pandas as pd\n",
    "import matplotlib.pyplot as plt\n",
    "import seaborn as sns\n",
    "\n",
    "%matplotlib inline"
   ]
  },
  {
   "cell_type": "markdown",
   "metadata": {},
   "source": [
    "## Data Importing and Cleaning\n",
    "\n",
    "We have extracted CSVs of pokemon data for each of the 7 generations. "
   ]
  },
  {
   "cell_type": "code",
   "execution_count": 2,
   "metadata": {},
   "outputs": [],
   "source": [
    "csv_df = [pd.read_csv(f'tier data/gen{i}.csv', delimiter=';') for i in range(1, 8)]"
   ]
  },
  {
   "cell_type": "code",
   "execution_count": 3,
   "metadata": {},
   "outputs": [
    {
     "data": {
      "text/html": [
       "<div>\n",
       "<style scoped>\n",
       "    .dataframe tbody tr th:only-of-type {\n",
       "        vertical-align: middle;\n",
       "    }\n",
       "\n",
       "    .dataframe tbody tr th {\n",
       "        vertical-align: top;\n",
       "    }\n",
       "\n",
       "    .dataframe thead th {\n",
       "        text-align: right;\n",
       "    }\n",
       "</style>\n",
       "<table border=\"1\" class=\"dataframe\">\n",
       "  <thead>\n",
       "    <tr style=\"text-align: right;\">\n",
       "      <th></th>\n",
       "      <th>Name</th>\n",
       "      <th>Types</th>\n",
       "      <th>Abilities</th>\n",
       "      <th>Tier</th>\n",
       "      <th>HP</th>\n",
       "      <th>Attack</th>\n",
       "      <th>Defense</th>\n",
       "      <th>Special Attack</th>\n",
       "      <th>Special Defense</th>\n",
       "      <th>Speed</th>\n",
       "      <th>Next Evolution(s)</th>\n",
       "    </tr>\n",
       "  </thead>\n",
       "  <tbody>\n",
       "    <tr>\n",
       "      <th>75</th>\n",
       "      <td>Magnemite</td>\n",
       "      <td>['Electric']</td>\n",
       "      <td>[]</td>\n",
       "      <td>LC</td>\n",
       "      <td>25</td>\n",
       "      <td>35</td>\n",
       "      <td>70</td>\n",
       "      <td>95</td>\n",
       "      <td>95</td>\n",
       "      <td>45</td>\n",
       "      <td>['Magneton']</td>\n",
       "    </tr>\n",
       "  </tbody>\n",
       "</table>\n",
       "</div>"
      ],
      "text/plain": [
       "         Name         Types Abilities Tier  HP  Attack  Defense  \\\n",
       "75  Magnemite  ['Electric']        []   LC  25      35       70   \n",
       "\n",
       "    Special Attack  Special Defense  Speed Next Evolution(s)  \n",
       "75              95               95     45      ['Magneton']  "
      ]
     },
     "execution_count": 3,
     "metadata": {},
     "output_type": "execute_result"
    }
   ],
   "source": [
    "csv_df[0].sample()"
   ]
  },
  {
   "cell_type": "markdown",
   "metadata": {},
   "source": [
    "As of generation 7, there is a new Untiered tier, which consists of pokemon which should be in PU (the lowest tier) but see extremely low usage. For this analysis we will put them in PU."
   ]
  },
  {
   "cell_type": "code",
   "execution_count": 4,
   "metadata": {},
   "outputs": [],
   "source": [
    "csv_df[6].loc[csv_df[6].Tier == 'Untiered', 'Tier'] = 'PU'"
   ]
  },
  {
   "cell_type": "markdown",
   "metadata": {},
   "source": [
    "We will consider only the primary playable tiers. This means all pokemon in \"borderline\" tiers will be promoted to the tier above, and we will not consider tiers like LC (little cup) or AG (anything goes)."
   ]
  },
  {
   "cell_type": "code",
   "execution_count": 5,
   "metadata": {},
   "outputs": [
    {
     "name": "stdout",
     "output_type": "stream",
     "text": [
      "84\n",
      "147\n",
      "259\n",
      "309\n",
      "402\n",
      "487\n",
      "553\n"
     ]
    }
   ],
   "source": [
    "for i, df in enumerate(csv_df):\n",
    "    df.loc[df.Tier == 'OUBL','Tier'] = 'Uber'\n",
    "    df.loc[df.Tier == 'UUBL','Tier'] = 'OU'\n",
    "    df.loc[df.Tier == 'RUBL','Tier'] = 'UU'\n",
    "    df.loc[df.Tier == 'NUBL','Tier'] = 'RU'\n",
    "    df.loc[df.Tier == 'PUBL','Tier'] = 'NU'\n",
    "    csv_df[i] = df[df['Tier'].isin(['Uber', 'OU', 'UU', 'NU', 'RU', 'PU'])]\n",
    "    print(csv_df[i].shape[0])"
   ]
  },
  {
   "cell_type": "code",
   "execution_count": 6,
   "metadata": {},
   "outputs": [],
   "source": [
    "df = csv_df[-1][['Name']].set_index('Name')\n",
    "csv_df = [df.set_index('Name') for df in csv_df]\n",
    "for gen in range(1, 8):\n",
    "    df[f'gen{gen}'] = df.index.map(lambda x: csv_df[gen-1].loc[x, 'Tier'] \n",
    "                        if x in csv_df[gen-1].index else None)"
   ]
  },
  {
   "cell_type": "markdown",
   "metadata": {},
   "source": [
    " Our analysis will be heavily affected by the missing tiers in the older generations. To alleviate this, let's exclude generation 1 from our analysis, and combine RU, NU and PU into NU. "
   ]
  },
  {
   "cell_type": "code",
   "execution_count": 7,
   "metadata": {},
   "outputs": [],
   "source": [
    "del df['gen1']"
   ]
  },
  {
   "cell_type": "code",
   "execution_count": 8,
   "metadata": {},
   "outputs": [],
   "source": [
    "low_tiers = {'NU', 'PU', 'RU'}\n",
    "df = df.applymap(lambda x: 'NU' if x in low_tiers else x)"
   ]
  },
  {
   "cell_type": "code",
   "execution_count": 9,
   "metadata": {},
   "outputs": [],
   "source": [
    "tiers = ['Uber', 'OU', 'UU', 'NU'] #'RU', 'PU'\n",
    "tier_mapping = {tier:num for num, tier in enumerate(tiers)}\n",
    "def tier_num(tier):\n",
    "    return tier_mapping[tier]"
   ]
  },
  {
   "cell_type": "markdown",
   "metadata": {},
   "source": [
    "## Analysis"
   ]
  },
  {
   "cell_type": "markdown",
   "metadata": {},
   "source": [
    "Let's look at the distribution of tiers."
   ]
  },
  {
   "cell_type": "code",
   "execution_count": 10,
   "metadata": {},
   "outputs": [
    {
     "data": {
      "text/html": [
       "<div>\n",
       "<style scoped>\n",
       "    .dataframe tbody tr th:only-of-type {\n",
       "        vertical-align: middle;\n",
       "    }\n",
       "\n",
       "    .dataframe tbody tr th {\n",
       "        vertical-align: top;\n",
       "    }\n",
       "\n",
       "    .dataframe thead th {\n",
       "        text-align: right;\n",
       "    }\n",
       "</style>\n",
       "<table border=\"1\" class=\"dataframe\">\n",
       "  <thead>\n",
       "    <tr style=\"text-align: right;\">\n",
       "      <th></th>\n",
       "      <th>gen2</th>\n",
       "      <th>gen3</th>\n",
       "      <th>gen4</th>\n",
       "      <th>gen5</th>\n",
       "      <th>gen6</th>\n",
       "      <th>gen7</th>\n",
       "    </tr>\n",
       "  </thead>\n",
       "  <tbody>\n",
       "    <tr>\n",
       "      <th>NU</th>\n",
       "      <td>0.353383</td>\n",
       "      <td>0.298578</td>\n",
       "      <td>0.531250</td>\n",
       "      <td>0.622691</td>\n",
       "      <td>0.575949</td>\n",
       "      <td>0.649186</td>\n",
       "    </tr>\n",
       "    <tr>\n",
       "      <th>OU</th>\n",
       "      <td>0.360902</td>\n",
       "      <td>0.350711</td>\n",
       "      <td>0.208333</td>\n",
       "      <td>0.153034</td>\n",
       "      <td>0.156118</td>\n",
       "      <td>0.137432</td>\n",
       "    </tr>\n",
       "    <tr>\n",
       "      <th>UU</th>\n",
       "      <td>0.248120</td>\n",
       "      <td>0.284360</td>\n",
       "      <td>0.180556</td>\n",
       "      <td>0.155673</td>\n",
       "      <td>0.183544</td>\n",
       "      <td>0.126582</td>\n",
       "    </tr>\n",
       "    <tr>\n",
       "      <th>Uber</th>\n",
       "      <td>0.037594</td>\n",
       "      <td>0.066351</td>\n",
       "      <td>0.079861</td>\n",
       "      <td>0.068602</td>\n",
       "      <td>0.084388</td>\n",
       "      <td>0.086799</td>\n",
       "    </tr>\n",
       "  </tbody>\n",
       "</table>\n",
       "</div>"
      ],
      "text/plain": [
       "          gen2      gen3      gen4      gen5      gen6      gen7\n",
       "NU    0.353383  0.298578  0.531250  0.622691  0.575949  0.649186\n",
       "OU    0.360902  0.350711  0.208333  0.153034  0.156118  0.137432\n",
       "UU    0.248120  0.284360  0.180556  0.155673  0.183544  0.126582\n",
       "Uber  0.037594  0.066351  0.079861  0.068602  0.084388  0.086799"
      ]
     },
     "execution_count": 10,
     "metadata": {},
     "output_type": "execute_result"
    }
   ],
   "source": [
    "tier_counts = df.apply(pd.Series.value_counts).fillna(0).astype(np.int32)\n",
    "tier_counts = tier_counts / tier_counts.sum()\n",
    "tier_counts"
   ]
  },
  {
   "cell_type": "code",
   "execution_count": 11,
   "metadata": {},
   "outputs": [
    {
     "data": {
      "text/plain": [
       "Text(0.5,1,'Distribution of Pokemon Among Tiers by Generation')"
      ]
     },
     "execution_count": 11,
     "metadata": {},
     "output_type": "execute_result"
    },
    {
     "data": {
      "image/png": "[encoded data removed]",
      "text/plain": [
       "<Figure size 432x288 with 2 Axes>"
      ]
     },
     "metadata": {},
     "output_type": "display_data"
    }
   ],
   "source": [
    "sns.heatmap(tier_counts.loc[tiers], cmap=\"Reds\").set_title('Distribution of Pokemon Among Tiers by Generation')"
   ]
  },
  {
   "cell_type": "markdown",
   "metadata": {},
   "source": [
    "In generations 2 and 3 (which only have the 4 tiers listed), there is an even distribution of pokemon in the 3 lower tiers. The higher generations have most of the pokemon in the lower tiers for two reasons. First, we combined the lower tiers in the higher generation. Second, by design, the lowest tier has the most pokemon for newer generations."
   ]
  },
  {
   "cell_type": "markdown",
   "metadata": {},
   "source": [
    "Let's create an Alluvial diagram visualizing how pokemon switch between various tiers."
   ]
  },
  {
   "cell_type": "code",
   "execution_count": 12,
   "metadata": {},
   "outputs": [],
   "source": [
    "p = df.copy()\n",
    "p['cat'] = p['gen7']\n",
    "p = p.set_index('cat')\n",
    "?p.set_index"
   ]
  },
  {
   "cell_type": "code",
   "execution_count": 13,
   "metadata": {},
   "outputs": [],
   "source": [
    "p = df.copy()\n",
    "p['cat'] = p['gen7']\n",
    "p = p.set_index('cat', append=True).stack().reset_index()\n",
    "p.columns = ['Name', 'Tier in Gen 7', 'Gen', 'Tier']\n",
    "p.Gen = p.Gen.map(lambda x: x[-1]).astype(int)\n",
    "p.Tier = p.Tier.map(lambda x: 3-tier_mapping[x])"
   ]
  },
  {
   "cell_type": "code",
   "execution_count": 14,
   "metadata": {},
   "outputs": [
    {
     "data": {
      "text/plain": [
       "Text(0.5,1,'Pokemon Tier by Generation')"
      ]
     },
     "execution_count": 14,
     "metadata": {},
     "output_type": "execute_result"
    },
    {
     "data": {
      "image/png": "[encoded data removed]",
      "text/plain": [
       "<Figure size 432x288 with 1 Axes>"
      ]
     },
     "metadata": {},
     "output_type": "display_data"
    }
   ],
   "source": [
    "from matplotlib.ticker import MaxNLocator\n",
    "\n",
    "ax = sns.lineplot(data=p, x='Gen', y='Tier', units='Name',\n",
    "             estimator=None, alpha = 0.03, lw=13, hue='Tier in Gen 7',\n",
    "                 palette='muted')\n",
    "ax.yaxis.set_major_locator(MaxNLocator(integer=True))\n",
    "ax.set_yticklabels([None]+tiers[::-1])\n",
    "handles, labels = ax.get_legend_handles_labels()\n",
    "order = [0,3,4,2,1]\n",
    "plt.legend([handles[idx] for idx in order],[labels[idx] for idx in order], bbox_to_anchor=(1.05, 1.05))\n",
    "ax.set_title(\"Pokemon Tier by Generation\")"
   ]
  },
  {
   "cell_type": "markdown",
   "metadata": {},
   "source": [
    "In this visualization, there is one line per pokemon. These lines overlap, so a darker line indicates more pokemon. We can see that it is far more common for pokemon to go to a lower tier than it is for them to go to a higher tier. It is uncommon for a pokemon to jump more than one tier at a time, and rare for a pokemon to jump more than 2 at a time. There seems to be one interesting case where a pokemon went from NU to Uber in one tier:"
   ]
  },
  {
   "cell_type": "code",
   "execution_count": 15,
   "metadata": {},
   "outputs": [
    {
     "data": {
      "text/html": [
       "<div>\n",
       "<style scoped>\n",
       "    .dataframe tbody tr th:only-of-type {\n",
       "        vertical-align: middle;\n",
       "    }\n",
       "\n",
       "    .dataframe tbody tr th {\n",
       "        vertical-align: top;\n",
       "    }\n",
       "\n",
       "    .dataframe thead th {\n",
       "        text-align: right;\n",
       "    }\n",
       "</style>\n",
       "<table border=\"1\" class=\"dataframe\">\n",
       "  <thead>\n",
       "    <tr style=\"text-align: right;\">\n",
       "      <th></th>\n",
       "      <th>gen2</th>\n",
       "      <th>gen3</th>\n",
       "      <th>gen4</th>\n",
       "      <th>gen5</th>\n",
       "      <th>gen6</th>\n",
       "      <th>gen7</th>\n",
       "    </tr>\n",
       "    <tr>\n",
       "      <th>Name</th>\n",
       "      <th></th>\n",
       "      <th></th>\n",
       "      <th></th>\n",
       "      <th></th>\n",
       "      <th></th>\n",
       "      <th></th>\n",
       "    </tr>\n",
       "  </thead>\n",
       "  <tbody>\n",
       "    <tr>\n",
       "      <th>Wobbuffet</th>\n",
       "      <td>NU</td>\n",
       "      <td>Uber</td>\n",
       "      <td>Uber</td>\n",
       "      <td>OU</td>\n",
       "      <td>NU</td>\n",
       "      <td>NU</td>\n",
       "    </tr>\n",
       "  </tbody>\n",
       "</table>\n",
       "</div>"
      ],
      "text/plain": [
       "          gen2  gen3  gen4 gen5 gen6 gen7\n",
       "Name                                     \n",
       "Wobbuffet   NU  Uber  Uber   OU   NU   NU"
      ]
     },
     "execution_count": 15,
     "metadata": {},
     "output_type": "execute_result"
    }
   ],
   "source": [
    "df[(df['gen2'] == 'NU') & (df['gen3'] == 'Uber')]"
   ]
  },
  {
   "cell_type": "markdown",
   "metadata": {},
   "source": [
    "This happened because there were no abilities in Gen 2, then Wobbuffet gained the ability Shadow Tag in Gen 3, which made it quite overpowered. "
   ]
  },
  {
   "cell_type": "markdown",
   "metadata": {},
   "source": [
    "## Discrete Time Markov Chain"
   ]
  },
  {
   "cell_type": "markdown",
   "metadata": {},
   "source": [
    "Given this analysis, let's construct the one step transition matrix for the discrete time markov chain. For simplicity, we will assume the markov chain is time homogenous:"
   ]
  },
  {
   "cell_type": "code",
   "execution_count": 16,
   "metadata": {},
   "outputs": [],
   "source": [
    "dfs = [df[df.columns[i:i+2]] for i in range(2, 5)]\n",
    "for d in dfs:\n",
    "    d.columns = [\"start\", \"end\"]\n",
    "\n",
    "transitions = pd.concat(dfs).dropna()\n",
    "transitions['ind'] = 1"
   ]
  },
  {
   "cell_type": "code",
   "execution_count": 17,
   "metadata": {},
   "outputs": [
    {
     "data": {
      "text/html": [
       "<div>\n",
       "<style scoped>\n",
       "    .dataframe tbody tr th:only-of-type {\n",
       "        vertical-align: middle;\n",
       "    }\n",
       "\n",
       "    .dataframe tbody tr th {\n",
       "        vertical-align: top;\n",
       "    }\n",
       "\n",
       "    .dataframe thead th {\n",
       "        text-align: right;\n",
       "    }\n",
       "</style>\n",
       "<table border=\"1\" class=\"dataframe\">\n",
       "  <thead>\n",
       "    <tr style=\"text-align: right;\">\n",
       "      <th>end</th>\n",
       "      <th>Uber</th>\n",
       "      <th>OU</th>\n",
       "      <th>UU</th>\n",
       "      <th>NU</th>\n",
       "    </tr>\n",
       "    <tr>\n",
       "      <th>start</th>\n",
       "      <th></th>\n",
       "      <th></th>\n",
       "      <th></th>\n",
       "      <th></th>\n",
       "    </tr>\n",
       "  </thead>\n",
       "  <tbody>\n",
       "    <tr>\n",
       "      <th>Uber</th>\n",
       "      <td>0.865169</td>\n",
       "      <td>0.112360</td>\n",
       "      <td>0.022472</td>\n",
       "      <td>0.000000</td>\n",
       "    </tr>\n",
       "    <tr>\n",
       "      <th>OU</th>\n",
       "      <td>0.010417</td>\n",
       "      <td>0.567708</td>\n",
       "      <td>0.317708</td>\n",
       "      <td>0.104167</td>\n",
       "    </tr>\n",
       "    <tr>\n",
       "      <th>UU</th>\n",
       "      <td>0.005051</td>\n",
       "      <td>0.106061</td>\n",
       "      <td>0.449495</td>\n",
       "      <td>0.439394</td>\n",
       "    </tr>\n",
       "    <tr>\n",
       "      <th>NU</th>\n",
       "      <td>0.000000</td>\n",
       "      <td>0.015106</td>\n",
       "      <td>0.031722</td>\n",
       "      <td>0.953172</td>\n",
       "    </tr>\n",
       "  </tbody>\n",
       "</table>\n",
       "</div>"
      ],
      "text/plain": [
       "end        Uber        OU        UU        NU\n",
       "start                                        \n",
       "Uber   0.865169  0.112360  0.022472  0.000000\n",
       "OU     0.010417  0.567708  0.317708  0.104167\n",
       "UU     0.005051  0.106061  0.449495  0.439394\n",
       "NU     0.000000  0.015106  0.031722  0.953172"
      ]
     },
     "execution_count": 17,
     "metadata": {},
     "output_type": "execute_result"
    }
   ],
   "source": [
    "trans_matrix = transitions.groupby(['start', 'end']).agg('sum').reset_index()\n",
    "trans_matrix = trans_matrix.pivot(index='start', columns='end', values='ind').fillna(0)\n",
    "trans_matrix = trans_matrix.loc[tiers, tiers]\n",
    "\n",
    "temp = pd.concat([trans_matrix.sum(axis=1)]*4, axis=1)\n",
    "temp.columns = tiers\n",
    "\n",
    "trans_matrix = trans_matrix/temp\n",
    "\n",
    "trans_matrix"
   ]
  },
  {
   "cell_type": "markdown",
   "metadata": {},
   "source": [
    "We can see that a large proportion pokemon from Ubers and NU stay in those tiers. Also, while all other pairs of states communicate directly, no pokemon have gone directy from Ubers to NU or vice versa. Interestingly, given a pokemon is in UU, there is less than a 50% chance of it staying in UU in the next generation. This suggests that the middle tiers change a lot, whereas the outer tiers are more stable. Let's visualize this chain as a graph:"
   ]
  },
  {
   "cell_type": "code",
   "execution_count": 18,
   "metadata": {},
   "outputs": [
    {
     "data": {
      "image/png": "[encoded data removed]",
      "text/plain": [
       "<IPython.core.display.Image object>"
      ]
     },
     "execution_count": 18,
     "metadata": {},
     "output_type": "execute_result"
    }
   ],
   "source": [
    "from graphviz import Digraph\n",
    "import graphviz\n",
    "import pydotplus\n",
    "from IPython.display import Image  \n",
    "\n",
    "dot = Digraph()\n",
    "for n in tiers:\n",
    "    dot.node(n, n)\n",
    "    \n",
    "for start in tiers:\n",
    "    for end in tiers:\n",
    "        if trans_matrix.loc[start, end] > 0.000001:\n",
    "            dot.edge(start, end, f\"{trans_matrix.loc[start, end]:.2}\")\n",
    "\n",
    "graph = pydotplus.graph_from_dot_data(dot.source)  \n",
    "Image(graph.create_png())"
   ]
  },
  {
   "cell_type": "markdown",
   "metadata": {},
   "source": [
    "This markov chain is clearly irreducible, aperiodic, and positive recurrent, thus we can find a unique stationary distribution. We can then compare this stationary distribution to the initial distribution and the current distribution of tiers in Pokemon."
   ]
  },
  {
   "cell_type": "code",
   "execution_count": 19,
   "metadata": {},
   "outputs": [
    {
     "data": {
      "text/plain": [
       "array([0.00696016, 0.0514703 , 0.07965529, 0.86191425])"
      ]
     },
     "execution_count": 19,
     "metadata": {},
     "output_type": "execute_result"
    }
   ],
   "source": [
    "matrix = trans_matrix.values\n",
    "stationary_distro = np.linalg.eig(matrix.T)[1][:, 0]\n",
    "stationary_distro = stationary_distro/np.sum(stationary_distro)\n",
    "stationary_distro"
   ]
  },
  {
   "cell_type": "code",
   "execution_count": 20,
   "metadata": {},
   "outputs": [
    {
     "data": {
      "text/plain": [
       "array([0.00696016, 0.0514703 , 0.07965529, 0.86191425])"
      ]
     },
     "execution_count": 20,
     "metadata": {},
     "output_type": "execute_result"
    }
   ],
   "source": [
    "stationary_distro @ matrix @ matrix @ matrix #double check that this is the stationary distribution"
   ]
  },
  {
   "cell_type": "markdown",
   "metadata": {},
   "source": [
    "This result makes sense: pokemon in the uber tier tend to stay in that tier, whereas lower tier pokemon have a higher chance of being promoted. So, a stationary distribution would have a small density for Ubers and a larger one for NU."
   ]
  },
  {
   "cell_type": "markdown",
   "metadata": {},
   "source": [
    "Let's compare this stationary distribution to the distribution in the tiers"
   ]
  },
  {
   "cell_type": "code",
   "execution_count": 21,
   "metadata": {},
   "outputs": [],
   "source": [
    "tier_distro = tier_counts\n",
    "tier_distro['Stationary'] = stationary_distro[::-1]\n",
    "tier_distro.columns = [f'Gen {i}' for i in range(2, 8)] + ['Stationary']\n",
    "tier_distro = tier_distro.stack().reset_index()\n",
    "tier_distro.columns = ['Tier', 'Category', 'Proportion']"
   ]
  },
  {
   "cell_type": "code",
   "execution_count": 22,
   "metadata": {},
   "outputs": [
    {
     "data": {
      "text/plain": [
       "Text(0.5,1,'Stationary Distribution vs Actual Distribution')"
      ]
     },
     "execution_count": 22,
     "metadata": {},
     "output_type": "execute_result"
    },
    {
     "data": {
      "image/png": "[encoded data removed]",
      "text/plain": [
       "<Figure size 432x288 with 1 Axes>"
      ]
     },
     "metadata": {},
     "output_type": "display_data"
    }
   ],
   "source": [
    "ax = sns.barplot(data=tier_distro, x='Tier', \n",
    "            hue='Category', y='Proportion',\n",
    "            palette='muted')\n",
    "ax.set_title(\"Stationary Distribution vs Actual Distribution\")"
   ]
  },
  {
   "cell_type": "markdown",
   "metadata": {},
   "source": [
    "As we saw in the heatmap, the older generations have a more even tier distribution than the new generations. However, gen 7's distribution is closer to that of the actual stationary distribution. In reality, the distribution of the tiers is kept stable by external factors, and the tiers shouldn't be extremely different (for playability). Furthermore, this distribution is another side effect of grouping the lower tiers together, particularly for the newer generations"
   ]
  },
  {
   "cell_type": "markdown",
   "metadata": {},
   "source": [
    "## Conclusion "
   ]
  },
  {
   "cell_type": "markdown",
   "metadata": {},
   "source": [
    "In this notebook, we explored how a pokemon's competitive tier may change over the course of several generations. We saw that in general, pokemon are demoted rather than promoted. The markov chain showed us that all the states communicate, though Uber and NU don't have a direct connection. Also, we say that the extreme states are more stable than the middle ones. Finally, since we had an irreducible, aperiodic, and positive recurrent, we found the limiting distribution and compared it to the actual distribution of the pokemon in the generations."
   ]
  }
 ],
 "metadata": {
  "kernelspec": {
   "display_name": "Python 3",
   "language": "python",
   "name": "python3"
  },
  "language_info": {
   "codemirror_mode": {
    "name": "ipython",
    "version": 3
   },
   "file_extension": ".py",
   "mimetype": "text/x-python",
   "name": "python",
   "nbconvert_exporter": "python",
   "pygments_lexer": "ipython3",
   "version": "3.6.5"
  }
 },
 "nbformat": 4,
 "nbformat_minor": 2
}
