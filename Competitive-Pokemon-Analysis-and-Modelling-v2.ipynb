{
 "cells": [
  {
   "cell_type": "markdown",
   "metadata": {},
   "source": [
    "# Competitive Pokemon Analysis\n",
    "\n",
    "The original Pokemon analysis notebook was written when I first learned Pandas. The way I use the library has evolved over the years, so this notebook merely updates the code to reflect those improvements (WIP)\n",
    "\n",
    "Competitive Pokemon is a game where players construct teams of pokemon with moves, natures, items, etc to battle other live players. In this turn-by-turn game, the objective is to make all (typically 6) of your opponents pokemon faint. Not all Pokemon are equal for this purpose, so based on the usage statistics of the pokemon in competitive play, they are split into various tiers. A player may use a Pokemon to compete in a particular tier if the pokemon is in that tier or below. Historically, usage of various pokemon by players has changed overtime with the introduction of new pokemon, moves, abilities, and mechanics. So, Pokemon are constantly shifted between tiers to maintain balance. You can learn move about competitive pokemon here: https://www.smogon.com/dp/articles/intro_comp_pokemon\n",
    "\n",
    "In this analysis, we will attempt to classify pokemon into the competitive 6v6 tiers based on the properties of the Pokemon themselves. This classification task is extremely difficult to do accurately, even for someone who is well versed in competitive Pokemon."
   ]
  },
  {
   "cell_type": "markdown",
   "metadata": {},
   "source": [
    "## Table of Contents\n",
    "* [Preliminary Data Processing](#data-processing)\n",
    "    * [Importing and Formatting](#initial)\n",
    "    * [Evolutionary Stage and Alternate Forms Feature](#stage-feature)\n",
    "    * [Alternate Forms Feature](#forms-feature)\n",
    "    * [Tier Processing](#tier-process)\n",
    "    * [Moves Corrections](#move-correct)\n",
    "    \n",
    "* [Exploratory Data Analysis](#analysis)\n",
    "    * [Distribution of Tiers](#tier-distribution)\n",
    "    * [Pokemon Offensive/Defensive Stats](#poke-stats)\n",
    "    * [Types](#types)\n",
    "    * [Moves](#moves)\n",
    "    * [Abilities](#abilities)\n",
    "    * [Evolutionary Stage](#stage)\n",
    "    * [Alternate Forms](#forms)\n",
    "    * [Anomaly Analysis](#anomaly)\n",
    "\n",
    "* [Modelling](#modelling)\n",
    "    * [Feature Space Reduction](#feature-reduce)\n",
    "    * [Encoding Data](#encoding)\n",
    "    * [Exploratory Modelling/ Feature Selection](#em)\n",
    "    * [Model Selection](#model-selection)\n",
    "    * [Model Tuning](#model-tuning)\n",
    "    \n",
    "* [Summary and Conclusion](#conclusion)\n"
   ]
  },
  {
   "cell_type": "markdown",
   "metadata": {},
   "source": [
    "## Preliminary Data Processing <a class=\"anchor\" id=\"data-processing\"></a>\n",
    "\n",
    "### Importing and Formatting: <a class=\"anchor\" id=\"initial\"></a>"
   ]
  },
  {
   "cell_type": "code",
   "execution_count": 1,
   "metadata": {},
   "outputs": [],
   "source": [
    "import numpy as np\n",
    "import pandas as pd\n",
    "import matplotlib.pyplot as plt\n",
    "import seaborn as sns"
   ]
  },
  {
   "cell_type": "code",
   "execution_count": 2,
   "metadata": {},
   "outputs": [
    {
     "name": "stdout",
     "output_type": "stream",
     "text": [
      "Number of pokemon:  918\n"
     ]
    },
    {
     "data": {
      "text/html": [
       "<div>\n",
       "<style scoped>\n",
       "    .dataframe tbody tr th:only-of-type {\n",
       "        vertical-align: middle;\n",
       "    }\n",
       "\n",
       "    .dataframe tbody tr th {\n",
       "        vertical-align: top;\n",
       "    }\n",
       "\n",
       "    .dataframe thead th {\n",
       "        text-align: right;\n",
       "    }\n",
       "</style>\n",
       "<table border=\"1\" class=\"dataframe\">\n",
       "  <thead>\n",
       "    <tr style=\"text-align: right;\">\n",
       "      <th></th>\n",
       "      <th>Name</th>\n",
       "      <th>Types</th>\n",
       "      <th>Abilities</th>\n",
       "      <th>Tier</th>\n",
       "      <th>HP</th>\n",
       "      <th>Attack</th>\n",
       "      <th>Defense</th>\n",
       "      <th>Special Attack</th>\n",
       "      <th>Special Defense</th>\n",
       "      <th>Speed</th>\n",
       "      <th>Next Evolution(s)</th>\n",
       "      <th>Moves</th>\n",
       "    </tr>\n",
       "  </thead>\n",
       "  <tbody>\n",
       "    <tr>\n",
       "      <th>777</th>\n",
       "      <td>Surskit</td>\n",
       "      <td>['Bug', 'Water']</td>\n",
       "      <td>['Rain Dish', 'Swift Swim']</td>\n",
       "      <td>LC</td>\n",
       "      <td>40</td>\n",
       "      <td>30</td>\n",
       "      <td>32</td>\n",
       "      <td>50</td>\n",
       "      <td>52</td>\n",
       "      <td>65</td>\n",
       "      <td>['Masquerain']</td>\n",
       "      <td>['Bubble', 'Quick Attack', 'Sweet Scent', 'Wat...</td>\n",
       "    </tr>\n",
       "  </tbody>\n",
       "</table>\n",
       "</div>"
      ],
      "text/plain": [
       "        Name             Types                    Abilities Tier  HP  Attack  \\\n",
       "777  Surskit  ['Bug', 'Water']  ['Rain Dish', 'Swift Swim']   LC  40      30   \n",
       "\n",
       "     Defense  Special Attack  Special Defense  Speed Next Evolution(s)  \\\n",
       "777       32              50               52     65    ['Masquerain']   \n",
       "\n",
       "                                                 Moves  \n",
       "777  ['Bubble', 'Quick Attack', 'Sweet Scent', 'Wat...  "
      ]
     },
     "execution_count": 2,
     "metadata": {},
     "output_type": "execute_result"
    }
   ],
   "source": [
    "df = pd.read_csv('pokemon-data.csv', delimiter=';')\n",
    "mdf = pd.read_csv('move-data.csv', delimiter=';')\n",
    "\n",
    "print('Number of pokemon: ', len(df))\n",
    "df.sample()"
   ]
  },
  {
   "cell_type": "code",
   "execution_count": 3,
   "metadata": {},
   "outputs": [
    {
     "name": "stdout",
     "output_type": "stream",
     "text": [
      "Number of moves:  728\n"
     ]
    },
    {
     "data": {
      "text/html": [
       "<div>\n",
       "<style scoped>\n",
       "    .dataframe tbody tr th:only-of-type {\n",
       "        vertical-align: middle;\n",
       "    }\n",
       "\n",
       "    .dataframe tbody tr th {\n",
       "        vertical-align: top;\n",
       "    }\n",
       "\n",
       "    .dataframe thead th {\n",
       "        text-align: right;\n",
       "    }\n",
       "</style>\n",
       "<table border=\"1\" class=\"dataframe\">\n",
       "  <thead>\n",
       "    <tr style=\"text-align: right;\">\n",
       "      <th></th>\n",
       "      <th>Index</th>\n",
       "      <th>Name</th>\n",
       "      <th>Type</th>\n",
       "      <th>Category</th>\n",
       "      <th>Contest</th>\n",
       "      <th>PP</th>\n",
       "      <th>Power</th>\n",
       "      <th>Accuracy</th>\n",
       "      <th>Generation</th>\n",
       "    </tr>\n",
       "  </thead>\n",
       "  <tbody>\n",
       "    <tr>\n",
       "      <th>633</th>\n",
       "      <td>634</td>\n",
       "      <td>Savage Spin-Out</td>\n",
       "      <td>Bug</td>\n",
       "      <td>Physical</td>\n",
       "      <td>???</td>\n",
       "      <td>1</td>\n",
       "      <td>None</td>\n",
       "      <td>None</td>\n",
       "      <td>7</td>\n",
       "    </tr>\n",
       "  </tbody>\n",
       "</table>\n",
       "</div>"
      ],
      "text/plain": [
       "     Index             Name Type  Category Contest  PP Power Accuracy  \\\n",
       "633    634  Savage Spin-Out  Bug  Physical     ???   1  None     None   \n",
       "\n",
       "     Generation  \n",
       "633           7  "
      ]
     },
     "execution_count": 3,
     "metadata": {},
     "output_type": "execute_result"
    }
   ],
   "source": [
    "print('Number of moves: ', len(mdf))\n",
    "mdf.sample()"
   ]
  },
  {
   "cell_type": "code",
   "execution_count": 4,
   "metadata": {},
   "outputs": [],
   "source": [
    "#Preliminary Processing:\n",
    "mdf.columns = mdf.columns.str.lower()\n",
    "mdf.set_index('index')\n",
    "mdf['power'] = mdf['power'].replace('None', 0).astype(int)\n",
    "mdf['accuracy'] = mdf['accuracy'].replace('None', 100).astype(int)\n",
    "\n",
    "df.columns = ['name', 'types', 'abilities', 'tier', 'hp', 'atk', 'def', 'spa', 'spd', 'spe', 'next_evos','moves']\n",
    "\n",
    "#turn the lists into actual lists\n",
    "df['next_evos'] = df.next_evos.map(eval)\n",
    "df['types'] = df.types.map(eval)\n",
    "df['abilities'] = df.abilities.map(eval)\n",
    "df['moves'] = df.moves.map(eval)\n",
    "\n",
    "df.set_index('name', inplace=True)"
   ]
  },
  {
   "cell_type": "markdown",
   "metadata": {},
   "source": [
    "## Data Correction\n",
    "\n",
    "After inspecting the moves of each pokemon, there is an interest a couple interesting quirks in how the data was stored. First:"
   ]
  },
  {
   "cell_type": "code",
   "execution_count": 5,
   "metadata": {},
   "outputs": [
    {
     "name": "stdout",
     "output_type": "stream",
     "text": [
      "{\"Baby'Doll Eyes\", \"Wake'Up Slap\", \"Trick'or'Treat\", \"Soft'Boiled\", \"Self'Destruct\", \"Will'O'Wisp\", \"Land's Wrath\", \"X'Scissor\", \"Double'Edge\", \"Mud'Slap\", \"Forest's Curse\", \"King's Shield\", \"Lock'On\", \"Power'Up Punch\", \"U'turn\", \"Topsy'Turvy\", \"Nature's Madness\", \"Multi'Attack\", \"Freeze'Dry\"}\n"
     ]
    }
   ],
   "source": [
    "weird_moves = set()\n",
    "df['moves'].map(lambda moves: weird_moves.update(x for x in moves if \"'\" in x))\n",
    "print(weird_moves)"
   ]
  },
  {
   "cell_type": "markdown",
   "metadata": {},
   "source": [
    "Many of these moves, such as U-turn, should have a dash instead of an apostrophe (according to the moves dataset). Upon closer inspection, it's clear that the only moves that should have an apostrophe are those whose words end with an apostrophe-s. Let's make this correction."
   ]
  },
  {
   "cell_type": "code",
   "execution_count": 6,
   "metadata": {},
   "outputs": [
    {
     "name": "stdout",
     "output_type": "stream",
     "text": [
      "{\"King's Shield\", \"Land's Wrath\", \"Nature's Madness\", \"Forest's Curse\"}\n"
     ]
    }
   ],
   "source": [
    "weird_moves.symmetric_difference_update((\"King's Shield\", \"Forest's Curse\", \"Land's Wrath\", \"Nature's Madness\"))\n",
    "\n",
    "df['moves'] = df.moves.map(\n",
    "    lambda moves: [move if move not in weird_moves else move.replace(\"'\", \"-\")\n",
    "                  for move in moves])\n",
    "\n",
    "removal_check_set = set()\n",
    "df['moves'].map(lambda moves: removal_check_set.update(x for x in moves if \"'\" in x))\n",
    "print(removal_check_set)"
   ]
  },
  {
   "cell_type": "markdown",
   "metadata": {},
   "source": [
    "Second, you'll notice that many move lists have duplicates of the same move. Veekun (the website from which this data was scraped) has different tables for lists of moves depending on how the move can be learned (by level up, egg moves, TM/HM, special events, etc), which results in duplicates. Let's solve this by turning the movepools into sets instead of lists.\n"
   ]
  },
  {
   "cell_type": "code",
   "execution_count": 7,
   "metadata": {},
   "outputs": [],
   "source": [
    "df['moves'] = df.moves.map(set)"
   ]
  },
  {
   "cell_type": "markdown",
   "metadata": {},
   "source": [
    "The moves dataframe contains moves that are unlearnable by pokemon. These include moves like Struggle (which is a move pokemon use when they have no more pp in their normal moveset) and Z-moves (moves that are activated by a Z-crystal). These moves are characterized by having only 1 PP (which denotes the number of times a pokemon can use the move). Let's remove these."
   ]
  },
  {
   "cell_type": "code",
   "execution_count": 8,
   "metadata": {},
   "outputs": [],
   "source": [
    "mdf = mdf.query('pp != 1 or name == \"Struggle\"')"
   ]
  },
  {
   "cell_type": "markdown",
   "metadata": {},
   "source": [
    "Some inspection revealed that there are 9 moves which should be learned by pokemon that are not included in any move lists: V-create, Happy Hour, Celebrate, Hold Hands, Hold Back, Thousand Arrows, Thousand Waves, Core Enforcer, and Plasma Fists. Some research revealed that these most of these moves are either special event moves, or are Ultra Soon/Ultra Moon exclusives, and so for some reason are not included on movelists on Veekun. The exceptions are Zygarde's signature moves, Thousand Arrows and Thousand Waves, which are also not on Veekun (possibly because they can be only learned upon the creation of the Zygarde Cube).\n",
    "\n",
    "Of these moves, Happy Hour, Celebrate, Hold Hands have no effect in competitive battle, so we will remove them. Plasma Fists is only learned by Zeraora, which is unreleased, so it will be removed as well. The rest we will correct manually."
   ]
  },
  {
   "cell_type": "code",
   "execution_count": 9,
   "metadata": {},
   "outputs": [],
   "source": [
    "df.at['Victini', 'moves'].add('V-create')\n",
    "df.at['Rayquaza', 'moves'].add('V-create')  # technically should have Mega Rayquaza as well, but it's in AG\n",
    "df.at['Celebi', 'moves'].add('Hold Back')\n",
    "\n",
    "for pok in ['Zygarde', 'Zygarde-10%', 'Zygarde-Complete']:\n",
    "    df.at[pok, 'moves'].update(('Thousand Arrows', 'Thousand Waves', 'Core Enforcer'))\n",
    "\n",
    "for pok in ['Celebi', 'Serperior', 'Emboar', 'Samurott']:  # 'Mareep', 'Beldum', 'Munchlax' are all LC \n",
    "    df.at[pok, 'moves'].add('Hold Back')\n",
    "\n",
    "mdf = mdf.query('name not in (\"Happy Hour\", \"Celebrate\", \"Hold Hands\", \"Plasma Fists\")')"
   ]
  },
  {
   "cell_type": "markdown",
   "metadata": {},
   "source": [
    "We must be cautious analyzing the moves as there may be more inconsistencies. In particular, other event moves may have been missed that some pokemon learn via level-up."
   ]
  },
  {
   "cell_type": "markdown",
   "metadata": {},
   "source": [
    "### Evolutionary Stage Feature: <a class=\"anchor\" id=\"stage-feature\"></a>\n",
    "\n",
    "The next evolution information is not immediately useful; however, we can determine how far a pokemon is in its evolutionary chain. Notice that a pokemon can have one, two, or three evolutions in its chain. A pokemon that is in its final form after one evolution is not necessarily weaker or stronger than another after two evolutions. For each pokemon, let's store it's \"progress\" in its evolution as a number between 0 to 1."
   ]
  },
  {
   "cell_type": "code",
   "execution_count": 10,
   "metadata": {},
   "outputs": [],
   "source": [
    "def stage_in_evo(n):\n",
    "    # returns number of evolutions before it\n",
    "    #print(df[df['name'] == n]['name'])\n",
    "    bool_arr = df.next_evos.map(lambda x: n in x and (n+'-') not in x)  # gets index of previous evolution\n",
    "    if '-' in n and n.split('-')[0] in df.index and n != 'Porygon-Z':  # '-Mega' in n or  \n",
    "        # megas and alternate forms should have same evolutionary stage as their base\n",
    "        return stage_in_evo(n.split('-')[0])\n",
    "    elif not any( bool_arr):\n",
    "        return 1 # if there's nothing before it, it's the first\n",
    "    else:\n",
    "        return 1 + stage_in_evo(df.index[bool_arr][0])\n",
    "\n",
    "def num_evos(n):\n",
    "    if n not in df.index: #checks to ensure valid pokemon\n",
    "        return n\n",
    "    \n",
    "    next_evos = df.at[n, 'next_evos']\n",
    "    if len(next_evos) > 0: #existence of next_evo\n",
    "        if n in next_evos[0]: # if \"next evo\" is an alternate form\n",
    "            return df.at[n, 'stage'] #accounting for alternate forms\n",
    "        else:\n",
    "            return num_evos(next_evos[0])\n",
    "    elif '-Mega' in n or (n.split('-')[0] in df.index and n != 'Porygon-Z'): \n",
    "        #this is checking if there is a pokemon with the same root name (e.g. Shaymin vs Shaymin-Sky)\n",
    "        return df.at[n.split('-')[0], 'stage']\n",
    "    else:\n",
    "        return df.at[n, 'stage']"
   ]
  },
  {
   "cell_type": "code",
   "execution_count": 11,
   "metadata": {},
   "outputs": [],
   "source": [
    "df['stage'] = df.index.map(stage_in_evo)"
   ]
  },
  {
   "cell_type": "code",
   "execution_count": 12,
   "metadata": {},
   "outputs": [],
   "source": [
    "df['num_evos'] = df.index.map(num_evos)"
   ]
  },
  {
   "cell_type": "code",
   "execution_count": 13,
   "metadata": {},
   "outputs": [],
   "source": [
    "df['evo_progress'] = df['stage']/df['num_evos'] \n",
    "df.drop(columns=['stage', 'num_evos'], inplace=True)"
   ]
  },
  {
   "cell_type": "code",
   "execution_count": 14,
   "metadata": {},
   "outputs": [
    {
     "data": {
      "text/html": [
       "<div>\n",
       "<style scoped>\n",
       "    .dataframe tbody tr th:only-of-type {\n",
       "        vertical-align: middle;\n",
       "    }\n",
       "\n",
       "    .dataframe tbody tr th {\n",
       "        vertical-align: top;\n",
       "    }\n",
       "\n",
       "    .dataframe thead th {\n",
       "        text-align: right;\n",
       "    }\n",
       "</style>\n",
       "<table border=\"1\" class=\"dataframe\">\n",
       "  <thead>\n",
       "    <tr style=\"text-align: right;\">\n",
       "      <th></th>\n",
       "      <th>types</th>\n",
       "      <th>abilities</th>\n",
       "      <th>tier</th>\n",
       "      <th>hp</th>\n",
       "      <th>atk</th>\n",
       "      <th>def</th>\n",
       "      <th>spa</th>\n",
       "      <th>spd</th>\n",
       "      <th>spe</th>\n",
       "      <th>next_evos</th>\n",
       "      <th>moves</th>\n",
       "      <th>evo_progress</th>\n",
       "    </tr>\n",
       "    <tr>\n",
       "      <th>name</th>\n",
       "      <th></th>\n",
       "      <th></th>\n",
       "      <th></th>\n",
       "      <th></th>\n",
       "      <th></th>\n",
       "      <th></th>\n",
       "      <th></th>\n",
       "      <th></th>\n",
       "      <th></th>\n",
       "      <th></th>\n",
       "      <th></th>\n",
       "      <th></th>\n",
       "    </tr>\n",
       "  </thead>\n",
       "  <tbody>\n",
       "    <tr>\n",
       "      <th>Scyther</th>\n",
       "      <td>[Bug, Flying]</td>\n",
       "      <td>[Steadfast, Swarm, Technician]</td>\n",
       "      <td>NU</td>\n",
       "      <td>70</td>\n",
       "      <td>110</td>\n",
       "      <td>80</td>\n",
       "      <td>55</td>\n",
       "      <td>80</td>\n",
       "      <td>105</td>\n",
       "      <td>[Scizor]</td>\n",
       "      <td>{Agility, Swift, Aerial Ace, Thief, Ominous Wi...</td>\n",
       "      <td>0.500000</td>\n",
       "    </tr>\n",
       "    <tr>\n",
       "      <th>Scizor</th>\n",
       "      <td>[Bug, Steel]</td>\n",
       "      <td>[Light Metal, Swarm, Technician]</td>\n",
       "      <td>UU</td>\n",
       "      <td>70</td>\n",
       "      <td>130</td>\n",
       "      <td>100</td>\n",
       "      <td>55</td>\n",
       "      <td>80</td>\n",
       "      <td>65</td>\n",
       "      <td>[]</td>\n",
       "      <td>{Aerial Ace, Ominous Wind, Sunny Day, Struggle...</td>\n",
       "      <td>1.000000</td>\n",
       "    </tr>\n",
       "    <tr>\n",
       "      <th>Porygon</th>\n",
       "      <td>[Normal]</td>\n",
       "      <td>[Analytic, Download, Trace]</td>\n",
       "      <td>NaN</td>\n",
       "      <td>65</td>\n",
       "      <td>60</td>\n",
       "      <td>70</td>\n",
       "      <td>85</td>\n",
       "      <td>75</td>\n",
       "      <td>40</td>\n",
       "      <td>[Porygon2]</td>\n",
       "      <td>{Agility, Swift, Zap Cannon, Aerial Ace, Bide,...</td>\n",
       "      <td>1.000000</td>\n",
       "    </tr>\n",
       "    <tr>\n",
       "      <th>Porygon2</th>\n",
       "      <td>[Normal]</td>\n",
       "      <td>[Analytic, Download, Trace]</td>\n",
       "      <td>RU</td>\n",
       "      <td>85</td>\n",
       "      <td>80</td>\n",
       "      <td>90</td>\n",
       "      <td>105</td>\n",
       "      <td>95</td>\n",
       "      <td>60</td>\n",
       "      <td>[Porygon-Z]</td>\n",
       "      <td>{Agility, Swift, Zap Cannon, Aerial Ace, Thief...</td>\n",
       "      <td>0.666667</td>\n",
       "    </tr>\n",
       "    <tr>\n",
       "      <th>Porygon-Z</th>\n",
       "      <td>[Normal]</td>\n",
       "      <td>[Adaptability, Analytic, Download]</td>\n",
       "      <td>UUBL</td>\n",
       "      <td>85</td>\n",
       "      <td>80</td>\n",
       "      <td>70</td>\n",
       "      <td>135</td>\n",
       "      <td>75</td>\n",
       "      <td>90</td>\n",
       "      <td>[]</td>\n",
       "      <td>{Agility, Swift, Zap Cannon, Aerial Ace, Thief...</td>\n",
       "      <td>1.000000</td>\n",
       "    </tr>\n",
       "  </tbody>\n",
       "</table>\n",
       "</div>"
      ],
      "text/plain": [
       "                   types                           abilities  tier  hp  atk  \\\n",
       "name                                                                          \n",
       "Scyther    [Bug, Flying]      [Steadfast, Swarm, Technician]    NU  70  110   \n",
       "Scizor      [Bug, Steel]    [Light Metal, Swarm, Technician]    UU  70  130   \n",
       "Porygon         [Normal]         [Analytic, Download, Trace]   NaN  65   60   \n",
       "Porygon2        [Normal]         [Analytic, Download, Trace]    RU  85   80   \n",
       "Porygon-Z       [Normal]  [Adaptability, Analytic, Download]  UUBL  85   80   \n",
       "\n",
       "           def  spa  spd  spe    next_evos  \\\n",
       "name                                         \n",
       "Scyther     80   55   80  105     [Scizor]   \n",
       "Scizor     100   55   80   65           []   \n",
       "Porygon     70   85   75   40   [Porygon2]   \n",
       "Porygon2    90  105   95   60  [Porygon-Z]   \n",
       "Porygon-Z   70  135   75   90           []   \n",
       "\n",
       "                                                       moves  evo_progress  \n",
       "name                                                                        \n",
       "Scyther    {Agility, Swift, Aerial Ace, Thief, Ominous Wi...      0.500000  \n",
       "Scizor     {Aerial Ace, Ominous Wind, Sunny Day, Struggle...      1.000000  \n",
       "Porygon    {Agility, Swift, Zap Cannon, Aerial Ace, Bide,...      1.000000  \n",
       "Porygon2   {Agility, Swift, Zap Cannon, Aerial Ace, Thief...      0.666667  \n",
       "Porygon-Z  {Agility, Swift, Zap Cannon, Aerial Ace, Thief...      1.000000  "
      ]
     },
     "execution_count": 14,
     "metadata": {},
     "output_type": "execute_result"
    }
   ],
   "source": [
    "df.loc[['Scyther', 'Scizor',  'Porygon', 'Porygon2', 'Porygon-Z']]  # test"
   ]
  },
  {
   "cell_type": "markdown",
   "metadata": {},
   "source": [
    "### Alternate Forms Feature: <a class=\"anchor\" id=\"forms-feature\"></a>\n",
    "\n",
    "Alternate forms, unlike evolutions, are commonly attained using items or other means. They are typically equal to or more powerful than their base-counterparts. Let's create two indicator features: one for if a pokemon is a mega-evolution, and another for if a pokemon is an alternate form. Although alolan forms are technically alternate forms, they are really different pokemon with similar stats and movepools. For the purpose of this analysis, alolan forms will be considered seperate pokemon."
   ]
  },
  {
   "cell_type": "code",
   "execution_count": 15,
   "metadata": {},
   "outputs": [
    {
     "data": {
      "text/html": [
       "<div>\n",
       "<style scoped>\n",
       "    .dataframe tbody tr th:only-of-type {\n",
       "        vertical-align: middle;\n",
       "    }\n",
       "\n",
       "    .dataframe tbody tr th {\n",
       "        vertical-align: top;\n",
       "    }\n",
       "\n",
       "    .dataframe thead th {\n",
       "        text-align: right;\n",
       "    }\n",
       "</style>\n",
       "<table border=\"1\" class=\"dataframe\">\n",
       "  <thead>\n",
       "    <tr style=\"text-align: right;\">\n",
       "      <th></th>\n",
       "      <th>types</th>\n",
       "      <th>abilities</th>\n",
       "      <th>tier</th>\n",
       "      <th>hp</th>\n",
       "      <th>atk</th>\n",
       "      <th>def</th>\n",
       "      <th>spa</th>\n",
       "      <th>spd</th>\n",
       "      <th>spe</th>\n",
       "      <th>next_evos</th>\n",
       "      <th>moves</th>\n",
       "      <th>evo_progress</th>\n",
       "      <th>mega</th>\n",
       "      <th>alt_form</th>\n",
       "    </tr>\n",
       "    <tr>\n",
       "      <th>name</th>\n",
       "      <th></th>\n",
       "      <th></th>\n",
       "      <th></th>\n",
       "      <th></th>\n",
       "      <th></th>\n",
       "      <th></th>\n",
       "      <th></th>\n",
       "      <th></th>\n",
       "      <th></th>\n",
       "      <th></th>\n",
       "      <th></th>\n",
       "      <th></th>\n",
       "      <th></th>\n",
       "      <th></th>\n",
       "    </tr>\n",
       "  </thead>\n",
       "  <tbody>\n",
       "    <tr>\n",
       "      <th>Landorus-Therian</th>\n",
       "      <td>[Flying, Ground]</td>\n",
       "      <td>[Intimidate]</td>\n",
       "      <td>OU</td>\n",
       "      <td>89</td>\n",
       "      <td>145</td>\n",
       "      <td>90</td>\n",
       "      <td>105</td>\n",
       "      <td>80</td>\n",
       "      <td>91</td>\n",
       "      <td>[]</td>\n",
       "      <td>{Mud Shot, Focus Blast, Sandstorm, Explosion, ...</td>\n",
       "      <td>1.000000</td>\n",
       "      <td>0</td>\n",
       "      <td>1</td>\n",
       "    </tr>\n",
       "    <tr>\n",
       "      <th>Landorus</th>\n",
       "      <td>[Flying, Ground]</td>\n",
       "      <td>[Sand Force, Sheer Force]</td>\n",
       "      <td>Uber</td>\n",
       "      <td>89</td>\n",
       "      <td>125</td>\n",
       "      <td>90</td>\n",
       "      <td>115</td>\n",
       "      <td>80</td>\n",
       "      <td>101</td>\n",
       "      <td>[Landorus-Therian]</td>\n",
       "      <td>{Mud Shot, Focus Blast, Sandstorm, Explosion, ...</td>\n",
       "      <td>1.000000</td>\n",
       "      <td>0</td>\n",
       "      <td>0</td>\n",
       "    </tr>\n",
       "    <tr>\n",
       "      <th>Shaymin-Sky</th>\n",
       "      <td>[Flying, Grass]</td>\n",
       "      <td>[Serene Grace]</td>\n",
       "      <td>Uber</td>\n",
       "      <td>100</td>\n",
       "      <td>103</td>\n",
       "      <td>75</td>\n",
       "      <td>120</td>\n",
       "      <td>75</td>\n",
       "      <td>127</td>\n",
       "      <td>[]</td>\n",
       "      <td>{Swift, Flash, Ominous Wind, Sunny Day, Double...</td>\n",
       "      <td>1.000000</td>\n",
       "      <td>0</td>\n",
       "      <td>1</td>\n",
       "    </tr>\n",
       "    <tr>\n",
       "      <th>Blaziken-Mega</th>\n",
       "      <td>[Fire, Fighting]</td>\n",
       "      <td>[Speed Boost]</td>\n",
       "      <td>Uber</td>\n",
       "      <td>80</td>\n",
       "      <td>160</td>\n",
       "      <td>80</td>\n",
       "      <td>130</td>\n",
       "      <td>80</td>\n",
       "      <td>100</td>\n",
       "      <td>[]</td>\n",
       "      <td>{Aerial Ace, Sunny Day, Stone Edge, Mirror Mov...</td>\n",
       "      <td>1.000000</td>\n",
       "      <td>1</td>\n",
       "      <td>0</td>\n",
       "    </tr>\n",
       "    <tr>\n",
       "      <th>Diglett-Alola</th>\n",
       "      <td>[Ground, Steel]</td>\n",
       "      <td>[Sand Force, Sand Veil, Tangling Hair]</td>\n",
       "      <td>LC</td>\n",
       "      <td>10</td>\n",
       "      <td>55</td>\n",
       "      <td>30</td>\n",
       "      <td>35</td>\n",
       "      <td>45</td>\n",
       "      <td>90</td>\n",
       "      <td>[Dugtrio-Alola]</td>\n",
       "      <td>{Aerial Ace, Sandstorm, Thief, Iron Head, Sunn...</td>\n",
       "      <td>0.500000</td>\n",
       "      <td>0</td>\n",
       "      <td>0</td>\n",
       "    </tr>\n",
       "    <tr>\n",
       "      <th>Porygon2</th>\n",
       "      <td>[Normal]</td>\n",
       "      <td>[Analytic, Download, Trace]</td>\n",
       "      <td>RU</td>\n",
       "      <td>85</td>\n",
       "      <td>80</td>\n",
       "      <td>90</td>\n",
       "      <td>105</td>\n",
       "      <td>95</td>\n",
       "      <td>60</td>\n",
       "      <td>[Porygon-Z]</td>\n",
       "      <td>{Agility, Swift, Zap Cannon, Aerial Ace, Thief...</td>\n",
       "      <td>0.666667</td>\n",
       "      <td>0</td>\n",
       "      <td>0</td>\n",
       "    </tr>\n",
       "    <tr>\n",
       "      <th>Porygon-Z</th>\n",
       "      <td>[Normal]</td>\n",
       "      <td>[Adaptability, Analytic, Download]</td>\n",
       "      <td>UUBL</td>\n",
       "      <td>85</td>\n",
       "      <td>80</td>\n",
       "      <td>70</td>\n",
       "      <td>135</td>\n",
       "      <td>75</td>\n",
       "      <td>90</td>\n",
       "      <td>[]</td>\n",
       "      <td>{Agility, Swift, Zap Cannon, Aerial Ace, Thief...</td>\n",
       "      <td>1.000000</td>\n",
       "      <td>0</td>\n",
       "      <td>0</td>\n",
       "    </tr>\n",
       "  </tbody>\n",
       "</table>\n",
       "</div>"
      ],
      "text/plain": [
       "                             types                               abilities  \\\n",
       "name                                                                         \n",
       "Landorus-Therian  [Flying, Ground]                            [Intimidate]   \n",
       "Landorus          [Flying, Ground]               [Sand Force, Sheer Force]   \n",
       "Shaymin-Sky        [Flying, Grass]                          [Serene Grace]   \n",
       "Blaziken-Mega     [Fire, Fighting]                           [Speed Boost]   \n",
       "Diglett-Alola      [Ground, Steel]  [Sand Force, Sand Veil, Tangling Hair]   \n",
       "Porygon2                  [Normal]             [Analytic, Download, Trace]   \n",
       "Porygon-Z                 [Normal]      [Adaptability, Analytic, Download]   \n",
       "\n",
       "                  tier   hp  atk  def  spa  spd  spe           next_evos  \\\n",
       "name                                                                       \n",
       "Landorus-Therian    OU   89  145   90  105   80   91                  []   \n",
       "Landorus          Uber   89  125   90  115   80  101  [Landorus-Therian]   \n",
       "Shaymin-Sky       Uber  100  103   75  120   75  127                  []   \n",
       "Blaziken-Mega     Uber   80  160   80  130   80  100                  []   \n",
       "Diglett-Alola       LC   10   55   30   35   45   90     [Dugtrio-Alola]   \n",
       "Porygon2            RU   85   80   90  105   95   60         [Porygon-Z]   \n",
       "Porygon-Z         UUBL   85   80   70  135   75   90                  []   \n",
       "\n",
       "                                                              moves  \\\n",
       "name                                                                  \n",
       "Landorus-Therian  {Mud Shot, Focus Blast, Sandstorm, Explosion, ...   \n",
       "Landorus          {Mud Shot, Focus Blast, Sandstorm, Explosion, ...   \n",
       "Shaymin-Sky       {Swift, Flash, Ominous Wind, Sunny Day, Double...   \n",
       "Blaziken-Mega     {Aerial Ace, Sunny Day, Stone Edge, Mirror Mov...   \n",
       "Diglett-Alola     {Aerial Ace, Sandstorm, Thief, Iron Head, Sunn...   \n",
       "Porygon2          {Agility, Swift, Zap Cannon, Aerial Ace, Thief...   \n",
       "Porygon-Z         {Agility, Swift, Zap Cannon, Aerial Ace, Thief...   \n",
       "\n",
       "                  evo_progress  mega  alt_form  \n",
       "name                                            \n",
       "Landorus-Therian      1.000000     0         1  \n",
       "Landorus              1.000000     0         0  \n",
       "Shaymin-Sky           1.000000     0         1  \n",
       "Blaziken-Mega         1.000000     1         0  \n",
       "Diglett-Alola         0.500000     0         0  \n",
       "Porygon2              0.666667     0         0  \n",
       "Porygon-Z             1.000000     0         0  "
      ]
     },
     "execution_count": 15,
     "metadata": {},
     "output_type": "execute_result"
    }
   ],
   "source": [
    "df['mega'] = df.index.str.contains('-Mega').astype(int)\n",
    "# TODO\n",
    "df['alt_form'] = df.apply(lambda x: '-' in x.name \n",
    "                                    and x.mega == 0 \n",
    "                                    and '-Alola' not in x.name \n",
    "                                    and x.name.split('-')[0] in df.index \n",
    "                                    and x.name != 'Porygon-Z', axis=1).astype(int)\n",
    "\n",
    "df.loc[['Landorus-Therian', 'Landorus', 'Shaymin-Sky', 'Blaziken-Mega', 'Diglett-Alola', 'Porygon2', 'Porygon-Z']]  # test"
   ]
  },
  {
   "cell_type": "markdown",
   "metadata": {},
   "source": [
    "### Tier Processing: <a class=\"anchor\" id=\"tier-process\"></a>\n",
    "\n",
    "As of generation 7, there are 8 playable tiers. From strongest to weakest: Anything Goes (AG), Uber, Overused (OU), Underused (UU), Rarelyused (RU), Neverused (NU), Partiallyused (PU) and Little Cup (LC). There are also unplayable tiers called borderline tiers, suffixed by BL. These serve as banlists for their respective tiers (so these pokemon can only be used in higher tiers). For the purpose of this analysis, we will classify BL pokemon as the tier above.\n",
    "\n",
    "We will not consider the Little Cup (LC) format, as they are not defined by usage statistics (it involves pokemon that are not evolved but are capable of evolution and can be obtained in the traditional games at level 5). We will also discard the AG tier, as it was created solely for Mega Rayquaza. Both Pokemon that belong to no tier because they are uncompetitive and pokemon in the Limbo tier becuase they are unreleased will not be considererd.\n",
    "\n",
    "Let's make these changes. Also, we shall number the tiers to make plotting easier (lower number => better tier)"
   ]
  },
  {
   "cell_type": "code",
   "execution_count": 16,
   "metadata": {},
   "outputs": [
    {
     "data": {
      "text/plain": [
       "LC       265\n",
       "PU       222\n",
       "OU        77\n",
       "UU        74\n",
       "RU        72\n",
       "NU        60\n",
       "Uber      47\n",
       "Limbo      2\n",
       "AG         1\n",
       "Name: tier, dtype: int64"
      ]
     },
     "execution_count": 16,
     "metadata": {},
     "output_type": "execute_result"
    }
   ],
   "source": [
    "df['tier'].replace({'OUBL': 'Uber', 'UUBL': 'OU', 'RUBL': 'UU', 'NUBL': 'RU', 'PUBL': 'UU'}).value_counts()"
   ]
  },
  {
   "cell_type": "code",
   "execution_count": 17,
   "metadata": {},
   "outputs": [],
   "source": [
    "df['tier'] = df.tier.replace({'OUBL': 'Uber', 'UUBL': 'OU', 'RUBL': 'UU', 'NUBL': 'RU', 'PUBL': 'NU'})\n",
    "tiers = ['Uber', 'OU', 'UU', 'RU', 'NU', 'PU']\n",
    "df = df.query(\"tier in @tiers\").copy()"
   ]
  },
  {
   "cell_type": "code",
   "execution_count": 18,
   "metadata": {},
   "outputs": [
    {
     "data": {
      "text/plain": [
       "{'Uber': 0, 'OU': 1, 'UU': 2, 'RU': 3, 'NU': 4, 'PU': 5}"
      ]
     },
     "execution_count": 18,
     "metadata": {},
     "output_type": "execute_result"
    }
   ],
   "source": [
    "tier_mapping = {tier:num for num, tier in enumerate(tiers)}\n",
    "df['tier_num'] = df.tier.replace(tier_mapping)\n",
    "tier_mapping"
   ]
  },
  {
   "cell_type": "markdown",
   "metadata": {},
   "source": [
    "### Miscallaneous: <a class=\"anchor\" id=\"move-correct\"></a>\n",
    "\n",
    "A large movepool is considered an asset in competitive pokemon. For many pokemon, a large movepool makes it hard to predict what mvoeset your opponent is running. Let's create another feature describing the number of moves in the movepool to use in analysis."
   ]
  },
  {
   "cell_type": "code",
   "execution_count": 19,
   "metadata": {},
   "outputs": [],
   "source": [
    "df['num_moves'] = df.moves.map(len)"
   ]
  },
  {
   "cell_type": "markdown",
   "metadata": {},
   "source": [
    "The base stat total is a common metric players use to assess a Pokemon's overall strength, so let's create a column for this."
   ]
  },
  {
   "cell_type": "code",
   "execution_count": 20,
   "metadata": {},
   "outputs": [],
   "source": [
    "df['bst'] = df.eval('hp + atk + `def` + spa + spd + spe')\n",
    "#df = df[['name', 'types', 'abilities', 'tier', 'hp', 'atk', 'def', 'spa', 'spd', 'spe', 'bst', 'next_evos','moves']]"
   ]
  },
  {
   "cell_type": "markdown",
   "metadata": {},
   "source": [
    "In game, return has a base power of 102 when friendship is maximized and frusturation has a base power of 102 when friendship is minimized. In competitive, friendship can be set, so we will set the strength of frusturation and return to 102."
   ]
  },
  {
   "cell_type": "code",
   "execution_count": 21,
   "metadata": {},
   "outputs": [],
   "source": [
    "mdf.at['Frusuration', 'power'] = 102\n",
    "mdf.at['Return', 'power'] = 102"
   ]
  },
  {
   "cell_type": "markdown",
   "metadata": {},
   "source": [
    "## Exploratory Data Analysis <a class=\"anchor\" id=\"analysis\"></a>\n",
    "\n",
    "### Distribution of Tiers: <a class=\"anchor\" id=\"tier-distribution\"></a>\n",
    "\n",
    "Let's explore some of the relationships in this data. First, the distribution of the classes:"
   ]
  },
  {
   "cell_type": "code",
   "execution_count": 22,
   "metadata": {},
   "outputs": [
    {
     "name": "stdout",
     "output_type": "stream",
     "text": [
      "Total number of Pokemon:  552\n"
     ]
    }
   ],
   "source": [
    "c = sns.color_palette('muted')\n",
    "c = [c[5], c[1], c[3], c[4], c[2], c[0]]\n",
    "\n",
    "# ax = df.tier.value_counts().plot(kind='pie', autopct='%1.1f%%', colors=c, title='Percentage of Pokemon per Tier')\n",
    "print('Total number of Pokemon: ', len(df))\n",
    "#plt.savefig('dist_tiers.png', bbox_inches='tight')"
   ]
  },
  {
   "cell_type": "markdown",
   "metadata": {},
   "source": [
    "All the upper tiers are similar in size by design, but the PU tier is a dump of all the least used pokemon. We must account for this later. Let's create a dictionary with the sizes of each tier for reference:"
   ]
  },
  {
   "cell_type": "code",
   "execution_count": 23,
   "metadata": {},
   "outputs": [
    {
     "data": {
      "text/plain": [
       "{'PU': 222, 'OU': 77, 'RU': 72, 'NU': 68, 'UU': 66, 'Uber': 47}"
      ]
     },
     "execution_count": 23,
     "metadata": {},
     "output_type": "execute_result"
    }
   ],
   "source": [
    "tier_size = df.tier.value_counts().to_dict()\n",
    "tier_size"
   ]
  },
  {
   "cell_type": "markdown",
   "metadata": {},
   "source": [
    "### Pokemon Offensive/Defensive Stats <a class=\"anchor\" id=\"poke-stats\"></a>"
   ]
  },
  {
   "cell_type": "markdown",
   "metadata": {},
   "source": [
    "Let's examine how the the average stats compare for each tier:"
   ]
  },
  {
   "cell_type": "code",
   "execution_count": 24,
   "metadata": {},
   "outputs": [
    {
     "data": {
      "image/png": "[encoded data removed]",
      "text/plain": [
       "<Figure size 1800x576 with 2 Axes>"
      ]
     },
     "metadata": {
      "needs_background": "light"
     },
     "output_type": "display_data"
    }
   ],
   "source": [
    "stats_df = (df[['tier', 'tier_num', 'hp', 'atk', 'def', 'spa', 'spd', 'spe']]\n",
    "            .reset_index()\n",
    "            .melt(id_vars=['name', 'tier', 'tier_num'], var_name='Stat', value_name='Value')\n",
    "            .sort_values('tier_num', ascending=True))\n",
    "\n",
    "sns.set_context('talk')\n",
    "fig, ax = plt.subplots(1,2, figsize=(25,8), gridspec_kw = {'width_ratios':[3, 1]})\n",
    "g = sns.boxplot(data=stats_df, x=\"Stat\", y=\"Value\", order=['hp', 'atk', 'def', 'spa', 'spd', 'spe'],\n",
    "                hue=\"tier\", palette=\"muted\", ax=ax[0])\n",
    "g2 = sns.boxplot(data=df, x='tier', y='bst', order=tiers, palette=\"muted\", ax=ax[1])\n",
    "#g2=sns.factorplot(x=\"Tier\", y=\"Average\", hue_order=['bst'],hue=\"Stat\", data=temp2,\n",
    "#                   kind=\"bar\", palette=\"muted\", aspect=1.5,  ax=ax[1])\n",
    "ax[0].set(xlabel='Tier', ylabel='Stat Average', title='Distribution of Stats by Tier')\n",
    "ax[1].set(xlabel='Tier', ylabel='BST Average', title='Distribution of BST by Tier')\n",
    "None;\n",
    "#plt.savefig('dist_of_stats_by_tier.png', bbox_inches='tight')"
   ]
  },
  {
   "cell_type": "markdown",
   "metadata": {},
   "source": [
    "Note the different scales. As expected, there is a correlation between how the level of the tier and the pokemon's stats. Interestingly, attack and special attack stats tend to become more prominent in the higher tiers, indicating a more offensive playstyle in these tiers. Also, RU seems to have a lower average speed than NU but higher defensive stats than UU, indicating a particularly defensive playstyle in this tier. \n",
    "\n",
    "These trends are not mostly not significant, as the confidence intervals for the BST and all the stats is quite high. This will make classification using stats more difficult.\n",
    "\n",
    "However, evaluating just the average of stats is unfair: most pokemon are strong in one way or another that distinguishes them. Most viable pokemon have two strong stats. For example, offensive sweepers have a high special/attack and speed, bulky offensive pokemon have high special/attack and HP, defensive pokemon have a high defense and HP. Let's graph pokemon by the average of their x strongest stats, for x = 1 to 6."
   ]
  },
  {
   "cell_type": "code",
   "execution_count": null,
   "metadata": {},
   "outputs": [],
   "source": [
    "stats_df2 = df[['tier', 'hp', 'atk', 'def', 'spa', 'spd', 'spe']].set_index('tier', append=True)\n",
    "aggregates = {(f'Top {v} Avg', (lambda x, v=v: np.mean(np.sort(x)[::-1][:v]))) for v in range(1, 7)} \n",
    "stats_df2 = stats_df2.stack().groupby(['name','tier']).agg(aggregates).stack().reset_index()\n",
    "stats_df2.columns = ['Name', 'Tier', 'Average', 'Stat Average']\n",
    "\n",
    "plt.subplots(figsize=(17,7))\n",
    "sns.boxplot(data=stats_df2.sort_values('Average'), hue='Tier', y='Stat Average', x='Average', \n",
    "            hue_order=tiers, palette='muted').set_title('Average of Top x Stats by Tier')\n",
    "None;"
   ]
  },
  {
   "cell_type": "markdown",
   "metadata": {},
   "source": [
    "Interestingly, our hypothesis was incorrect. Considering the top stats actually gave us more variance than simply averaging all of them. The distinction between the different tiers also grows more clear as we consider more stats. \n",
    "\n",
    "Let's look at the univariate and bivariate distirbutions of all the stats themselves."
   ]
  },
  {
   "cell_type": "code",
   "execution_count": null,
   "metadata": {},
   "outputs": [],
   "source": [
    "stats_df = df[['tier', 'hp', 'atk', 'def', 'spa', 'spd', 'spe']] #'tier_num', , 'bst'\n",
    "sns.pairplot(stats_df, hue='tier', hue_order=list(reversed(tiers)), plot_kws={'s':25},\n",
    "               palette=list(reversed(sns.color_palette('muted'))))"
   ]
  },
  {
   "cell_type": "markdown",
   "metadata": {},
   "source": [
    "None of the stats are normally distributed, which is important to note for modelling. All the stats seem to be skewed in some way, and special attack appears to be bimodal for unknown reasons. There are no particularly interesting bivariate distributions between various stats. \n",
    "\n",
    "In competitive pokemon, there are various user-made classifications of pokemon that describe the distribution of their stats and typical movesets. For example, a pokemon with high special/attack and speed stats is typically a sweeper; high HP and defense(s) is a wall; high special/attack and reasonable defenses with low speed is a tank; and etc.\n",
    "\n",
    "All the tiers tend to have all the different classifications, so it is unlikely that we will be able to cluster based on stats alone. Let's use Principal Component Analysis to plot all the stats onto a 2D scatter plot to see if this is true."
   ]
  },
  {
   "cell_type": "code",
   "execution_count": null,
   "metadata": {},
   "outputs": [],
   "source": [
    "from sklearn.decomposition import PCA\n",
    "\n",
    "pca = PCA(n_components=6)\n",
    "pca_result = pca.fit_transform(df[['hp', 'atk', 'def', 'spa', 'spd', 'spe']].values)\n",
    "pca_df = df.copy()\n",
    "pca_df = pca_df[['tier']]\n",
    "pca_df['pca_1'] = pca_result[:,0]\n",
    "pca_df['pca_2'] = pca_result[:,1] \n",
    "pca_df['pca_3'] = pca_result[:,2]\n",
    "print(f'Variation per principal component: {pca.explained_variance_ratio_}')\n",
    "sns.lmplot(data = pca_df, x='pca_1', y='pca_2', hue='tier', hue_order=tiers, fit_reg=False, palette='muted', scatter_kws={'s':25})\n",
    "\n",
    "# below code from https://github.com/teddyroland/python-biplot/blob/master/biplot.py\n",
    "xs = pca_df['pca_1']\n",
    "ys = pca_df['pca_2']\n",
    "xvector = pca.components_[0]\n",
    "yvector = pca.components_[1]\n",
    "dat = df[['hp', 'atk', 'def', 'spa', 'spd', 'spe']]\n",
    "\n",
    "for i in range(len(xvector)):\n",
    "    # arrows project features (ie columns from csv) as vectors onto PC axes\n",
    "    plt.arrow(0, 0, xvector[i]*max(xs), yvector[i]*max(ys),\n",
    "              color='r', width=0.0005, head_width=0.0025)\n",
    "    plt.text(xvector[i]*max(xs)*1.2, yvector[i]*max(ys)*1.2,\n",
    "             list(dat.columns.values)[i], color='r')\n",
    "    \n",
    "#for i in range(len(xs)):\n",
    "# circles project documents (ie rows from csv) as points onto PC axes\n",
    "    #plt.plot(xs[i], ys[i], 'bo', markersize=5)\n",
    "    #plt.text(xs[i]*1.2, ys[i]*1.2, list(dat.index)[i], color='b')"
   ]
  },
  {
   "cell_type": "markdown",
   "metadata": {},
   "source": [
    "The first two components make up about 52% of the variance; however, as expected, it is hard to distinguish any meaningful relationships. Though there some information, as the weakest tier, PU, dominates the bottom left while the highest tier, Uber, dominates the upper right. Interestingly, the largest outliers lie along the speed, attack, and special attack axis, suggesting that pokemon offensive pokemon tend to lie on the extremes. This likely represents the magnitude of the stats of the pokemon in those tiers moreso than the distributions themselves.\n",
    "\n",
    "### Types <a class=\"anchor\" id=\"types\"></a>\n",
    "\n",
    "Moving away from the pokemon stats, let's look at the types. Both Pokemon can have one or two types while moves have one type. A  move of a given type can be super effective (2x damage), effective (1x damage), not very effective (0.5x damage), or ineffective (0x damage) against another type. When a pokemon has two types, this effect can be compounded (ie 4x damage or 0.25x damage). This is summarized in the table below from https://rankedboost.com/pokemon-sun-moon/type-chart/:\n",
    "\n",
    "<img src=\"type-chart.jpg\">\n",
    "\n",
    "This means that certain types and type combinations are advantageous defensively and/or offensively. Let's create a heatmap of the overall distribution of type combinations for pokemon, then heatmaps describing the distribution relative to the overall distribution."
   ]
  },
  {
   "cell_type": "code",
   "execution_count": null,
   "metadata": {},
   "outputs": [],
   "source": [
    "type_set = set()\n",
    "\n",
    "for ind, row in df.iterrows():\n",
    "    type_set |= set(row.types) #for use later\n",
    "\n",
    "type_df_temp = df.copy()\n",
    "type_df_temp['type 1'] = type_df_temp.apply(lambda x: sorted(x['types'])[0], axis=1)\n",
    "type_df_temp['type 2'] = type_df_temp.apply(lambda x: sorted(x['types'])[-1], axis=1) \n",
    "#if a pokemon has a single type, type 2 = type 1\n",
    "\n",
    "type_df = type_df_temp[['type 2', 'type 1']].groupby(['type 2', 'type 1']).size().reset_index()\n",
    "type_df.columns = ['type 1', 'type 2', 'count']\n",
    "type_pivoted_df = type_df.pivot('type 1', 'type 2', 'count')\n",
    "\n",
    "plt.subplots(figsize=(8,8))\n",
    "sns.heatmap(type_pivoted_df, annot=True, square=True, cmap='Blues', linecolor='grey', linewidths='0.05')\n",
    "plt.gca().set(title='Frequency of Type Combinations')"
   ]
  },
  {
   "cell_type": "markdown",
   "metadata": {},
   "source": [
    "This alone is not particularly interesting, except for the fact that purely Normal, Water, and Psychic type pokemon are very common. With a much larger dataset, the frequencies per tier would be interesting, but on this small set with many unique type combinations, the frequencies per tier would not contain much information. Instead, let's look at the overall frequencies of individual types:"
   ]
  },
  {
   "cell_type": "code",
   "execution_count": null,
   "metadata": {},
   "outputs": [],
   "source": [
    "#Get individual counts of type1 and type 2\n",
    "type1_count = type_df_temp[['tier', 'type 1']].groupby(['tier', 'type 1']).size().reset_index()\n",
    "type2_count = type_df_temp[['tier', 'type 2']].groupby(['tier', 'type 2']).size().reset_index()\n",
    "type1_count.columns=['tier', 'type', 'count1']\n",
    "type2_count.columns=['tier', 'type', 'count2']\n",
    "\n",
    "#Get overall type frequency per tier\n",
    "type_count = pd.merge(type1_count, type2_count, on=['tier', 'type'], how='outer')\n",
    "type_count.fillna(value=0, inplace=True)\n",
    "type_count['count'] = type_count['count1'] + type_count['count2']\n",
    "type_count_ind = type_count.set_index(['tier','type'])\n",
    "type_count['count'] = type_count.apply(lambda x: x['count']/np.sum(type_count_ind.loc[x['tier'], 'count'])\n",
    "                                      , axis=1) # /np.sum(type_count_ind2.loc[x['tier'], 'count'])\n",
    "\n",
    "#Format Table and Sort rows\n",
    "type_count = type_count[['tier','type','count']]\n",
    "type_count = type_count.set_index(['tier','type']).unstack()['count']\n",
    "type_count['tier_nums'] = type_count.apply(lambda x: tier_mapping[x.name],axis=1)\n",
    "type_count = type_count.sort_values(by='tier_nums', ascending=False)\n",
    "del type_count['tier_nums']\n",
    "\n",
    "colors = [(104,144,240), (184,184,208), (184,160,56), (248,88,136), \n",
    "          (160,64,160), (168,168,120), (152,216,216), (224,192,104), \n",
    "          (120,200,80), (112,88,152), (168,144,240), (240,128,48), \n",
    "          (192,48,40), (238,153,172), (248,208,48), (112,56,248), \n",
    "          (112,88,72), (168,184,32)]\n",
    "colors = [tuple(i/255.0 for i in c)\n",
    "               for c in colors]\n",
    "#Plit\n",
    "type_count.plot.bar(stacked=True, title='Distribution of Pokemon Types in Tiers', \n",
    "                     legend=False, figsize=(12, 7), sort_columns=True, width=0.8,\n",
    "                    color=reversed(colors))\n",
    "handles, labels = plt.gca().get_legend_handles_labels()\n",
    "plt.legend(loc='center left', bbox_to_anchor=(1.0, 0.5), handles=handles[::-1])\n",
    "#plt.savefig('distribution_of_types.png', bbox_inches='tight')"
   ]
  },
  {
   "cell_type": "markdown",
   "metadata": {},
   "source": [
    "The stronger the tier, the more prominent dragon, psychic, and steel types are. The weaker the tier, the more prominent normal grass types are. The distribution of steel, dragon, and grass types can be partly explained by their type advantages: dragon is an effective offensive type, steel is an effective defensive type, and grass is poor at both. However, this distribution is caused by the bias of the game developers. For example, \"legendary\" pokemon tend to be part dragon or psychic types.\n",
    "\n",
    "Next, let's take a look at pokemon moves and abilities. An individual pokemon may only have one ability out of one, two, or three options (depending on the pokemon). Similarly, an individual pokemon may have up to four moves in its moveset out of many.\n",
    "\n",
    "### Moves <a class=\"anchor\" id=\"moves\"></a>\n",
    "\n",
    "There are certain moves that make otherwise mediocre pokemon powerful, such as the Shell Smash on Cloyster. There are also many exclusive moves that give pokemon an upper hand. Most moves, however, are pretty standard and are learned by a wide range of pokemon. We can do much analysis on moves with their power, types, and etc, but we will focus on which Pokemon learn them and how that impacts what tier they belong to.\n",
    "\n",
    "Let's first take a look at the distribution of how many pokemon learn particular moves."
   ]
  },
  {
   "cell_type": "code",
   "execution_count": null,
   "metadata": {},
   "outputs": [],
   "source": [
    "mdf.set_index('name', inplace=True)\n",
    "\n",
    "mdf['uber count'] = 0\n",
    "mdf['ou count'] = 0\n",
    "mdf['uu count'] = 0\n",
    "mdf['ru count'] = 0\n",
    "mdf['nu count'] = 0\n",
    "mdf['pu count'] = 0\n",
    "\n",
    "for ind, row in df.iterrows():\n",
    "    for move in filter(lambda x: x in mdf.index, row.moves):\n",
    "        mdf.loc[move, row.tier.lower() + ' count'] += 1\n",
    "        \n",
    "mdf['count'] = mdf['uber count'] + mdf['ou count'] + mdf['uu count'] + mdf['ru count'] + mdf['nu count'] + mdf['pu count']\n",
    "#mdf = mdf.reset_index()"
   ]
  },
  {
   "cell_type": "code",
   "execution_count": null,
   "metadata": {},
   "outputs": [],
   "source": [
    "plt.figure(figsize=(20, 6))\n",
    "mdf['count'].hist(bins=50, color=sns.color_palette('muted')[0])\n",
    "plt.gca().set(title='Frequencies of Moves by the Number of Pokemon that Learn Them')"
   ]
  },
  {
   "cell_type": "markdown",
   "metadata": {},
   "source": [
    "Suprisingly, moves that are relatively exclusive are far more frequent than commons. Let's take a closer look at the most and least commonly learned moves.'"
   ]
  },
  {
   "cell_type": "code",
   "execution_count": null,
   "metadata": {},
   "outputs": [],
   "source": [
    "mdf.nlargest(20, 'count').index"
   ]
  },
  {
   "cell_type": "markdown",
   "metadata": {},
   "source": [
    "As expected, the most common moves are common moves learned by TM. Many are quite useful in competitive battle, but are not useful in distinguishing tiers. Let's look at the least commonly learned moves. We must remember the inconsistency we found when processing the data."
   ]
  },
  {
   "cell_type": "code",
   "execution_count": null,
   "metadata": {},
   "outputs": [],
   "source": [
    "mdf.nsmallest(20, 'count').index"
   ]
  },
  {
   "cell_type": "markdown",
   "metadata": {},
   "source": [
    "Many of these moves are the signature moves of legendary pokemon, but there are moves such as Chatter which belongs to Chatot, a PU pokemon. We'll consider a move exclusive if 3 or fewer pokemon learn it (this accomodates evolutions and alternate forms).\n",
    "\n",
    "For a given exclusive move, consider the percentage of pokemon from each tier learn it. Let's visualize this distribution"
   ]
  },
  {
   "cell_type": "code",
   "execution_count": null,
   "metadata": {},
   "outputs": [],
   "source": [
    "for t in tiers:\n",
    "    mdf[t + ' %'] = mdf[t.lower() + ' count']/tier_size[t]*100\n",
    "\n",
    "exclusives = mdf[mdf['count'] <= 3][[t + ' %' for t in tiers]].unstack().reset_index()\n",
    "del exclusives['name']\n",
    "exclusives.columns=['Tier', 'Percent of Pokemon that Learn a Given Exclusive Move']\n",
    "exclusives['Tier'] = exclusives.apply(lambda x: x['Tier'].split(' ')[0], axis=1)\n",
    "\n",
    "normals = mdf.copy()[[t + ' %' for t in tiers]].unstack().reset_index()\n",
    "del normals['name']\n",
    "normals.columns=['Tier', 'Percent of Pokemon that Learn a Given Move']\n",
    "normals['Tier'] = normals.apply(lambda x: x['Tier'].split(' ')[0], axis=1)\n",
    "\n",
    "fig, ax = plt.subplots(1,2, figsize=(25,8))\n",
    "sns.boxplot(data=exclusives, x='Tier', y='Percent of Pokemon that Learn a Given Exclusive Move', \n",
    "            palette='muted', ax=ax[0], showfliers=False)\n",
    "sns.boxplot(data=normals, x='Tier', y='Percent of Pokemon that Learn a Given Move', \n",
    "            palette='muted', ax=ax[1], showfliers=False)\n",
    "ax[0].set(title='Distribution for Exclusive Moves among the Tiers')\n",
    "ax[1].set(title='Distribution for All Moves among the Tiers')\n",
    "#plt.savefig('dist_exclusive_moves.png', bbox_inches='tight')"
   ]
  },
  {
   "cell_type": "markdown",
   "metadata": {},
   "source": [
    "For overall moves, as expected, the distributions of pokemon that learn a given move are very similar. Far more pokemon in the Ubers have exclusives than any other tier, which makes sense as many legendaries with exclusive moves belong to this tier (most of the rest of the legendaries are in OU). The PU for exclusive moves can be attributed to some \"vanity\" exclusvies that are given to weaker pokemon in lower tiers that are not extraordinary in battle.\n",
    "\n",
    "In summary, this graph says that for a given exclusive move, it's most likely that it will be learned by a pokemon in ubers.\n",
    "\n",
    "Let's see how typical moves are distrbuted between the tiers in a heatmap."
   ]
  },
  {
   "cell_type": "code",
   "execution_count": null,
   "metadata": {},
   "outputs": [],
   "source": [
    "num_plots = 10\n",
    "fig, ax = plt.subplots(1,num_plots, figsize=(25,8))\n",
    "\n",
    "heatmap_df = mdf.sort_values('count', ascending=False)[[t + ' %' for t in tiers]]\n",
    "num_elem = len(heatmap_df)\n",
    "split_heat_df = []\n",
    "\n",
    "for i in range(0, num_elem, int(num_elem/num_plots)):\n",
    "    split_heat_df.append(heatmap_df.iloc[i:i+int(num_elem/num_plots)])\n",
    "\n",
    "for hdf, axis, i in zip(split_heat_df, ax, range(0, num_elem, int(num_elem/num_plots))):\n",
    "    sns.heatmap(data=heatmap_df.iloc[i:i+int(num_elem/num_plots)], \n",
    "                annot=False, cmap='Blues', ax = axis, cbar=False)\n",
    "    axis.get_yaxis().set_visible(False)\n",
    "    axis.set(title=\"{} to {}\".format(i, i+int(num_elem/num_plots)-1))\n",
    "    \n",
    "fig.suptitle('Percent of Pokemon that Learn each Move by Tier')\n",
    "plt.savefig('move_dist.png', bbox_inches='tight')"
   ]
  },
  {
   "cell_type": "markdown",
   "metadata": {},
   "source": [
    "For the top 200 most common moves, the distribution is less even for the Ubers than other tiers, and Ubers has more exclusive moves. Apart from this, there is no obvious pattern that will help us classify pokemon into tiers.\n",
    "\n",
    "Based on this information, let's create a feature describing the number of \"exclusive\" moves a pokemon can learn for further analysis. This seems to be the only valuable indicator from the moves."
   ]
  },
  {
   "cell_type": "code",
   "execution_count": null,
   "metadata": {},
   "outputs": [],
   "source": [
    "exclusive_moves = set(mdf[mdf['count'] <= 3].index)\n",
    "df['num_exclusive'] = df.apply(lambda x: len(exclusive_moves.intersection(x['moves'])), axis=1)"
   ]
  },
  {
   "cell_type": "markdown",
   "metadata": {},
   "source": [
    "Before, we visualized for a given move, what the expected percentage of pokemon from each tier learn that move. Now, for each tier, let's see what percentage of pokemon have an exclusive move. We will split up the bars based on how many moves exclusive moves they learn."
   ]
  },
  {
   "cell_type": "code",
   "execution_count": null,
   "metadata": {},
   "outputs": [],
   "source": [
    "edf = df.loc[:, ['tier', 'tier_num', 'num_exclusive']]\n",
    "edf['indicator'] = edf.apply(lambda x: 1 if x.num_exclusive > 0 else 0, axis=1)\n",
    "edf = edf.pivot_table(values='indicator', index=['tier', 'tier_num'], columns='num_exclusive', fill_value=0, aggfunc=np.count_nonzero)\n",
    "edf.reset_index(inplace=True)\n",
    "edf.columns = ['Tier', 'tier_num'] + [str(i) for i in range(5)]\n",
    "edf.sort_values('tier_num', inplace=True)\n",
    "del edf['tier_num']\n",
    "del edf['0']\n",
    "\n",
    "for i in range(1,  5):\n",
    "    edf[str(i)] = edf.apply(lambda x: x[str(i)]/tier_size[x['Tier']]*100, axis=1)\n",
    "\n",
    "edf.set_index('Tier').plot.barh(stacked=True, color=sns.color_palette('muted'), figsize=(10, 5))\n",
    "plt.gca().set(title='% of Pokemon by Tier that Learn 1+ Exclusive Moves')\n",
    "plt.legend(title='# Exclusives')\n",
    "#plt.savefig('dist_one_plus_exclusive.png', bbox_inches='tight')"
   ]
  },
  {
   "cell_type": "markdown",
   "metadata": {},
   "source": [
    "Looking forward, our model will have far too many features if we include all the moves for each pokemon. Unfortunately, with the data we have, we cannot easily bin the non-damaging moves. For offensive moves, consider the following logic:\n",
    "\n",
    "Ignoring negative effects a damaging move may have, you want your pokemon to have the most powerful moves available subject to a few conditions. First, usually, you want the move to have sufficient accuracy. In my experience, this means a move with an accuracy of 85% or above except for special circumstances (e.g. accuracy boosting, weather conditions that boost accuracy). Next, you want to choose a move that compliments your pokemon's attacking stats, typically the higher one. The move's type is also important when considering STAB and coverage (the ability to effectively damage a wide variety of pokemon types). A move's additional effects are also important, but unfortunately, we do not have access to that data.\n",
    "\n",
    "With this in mind, for each pokemon, let's create 36 features. For each type, we will list the power of the highest damaging special and physical move that has an accuracy >= 85%. Also, we create a feature called primary_attack, which lists the pokemon's strongest STAB move based on it's strongest attacking stat (physical for attack, special for special attack)."
   ]
  },
  {
   "cell_type": "code",
   "execution_count": null,
   "metadata": {
    "scrolled": true
   },
   "outputs": [],
   "source": [
    "highest_moves = []\n",
    "#we do not want to count moves with recharge as half power,\n",
    "#as they waste a turn and are not used commonly used in competitive\n",
    "moves_w_recharge = {'Blast Burn', 'Frenzy Plant', 'Giga Impact', 'Hydro Cannon',\n",
    "                      'Hyper Beam', 'Prismatic Laster', 'Roar of Time', 'Rock Wrecker',\n",
    "                      'Shadow Half'}\n",
    "# a special move that lowers special atk is not that useful,\n",
    "# similarly a physical move that lowers atk is not that useful\n",
    "moves_lower_attack = {'Overheat', 'Draco Meteor', 'Leaf Storm', 'Fleur Cannon', \n",
    "                      'Psycho Boost', 'Superpower'}\n",
    "#these moves cause the user to fiant, so they will not be included\n",
    "self_destroy = {'Explosion', 'Self-Destruct'}\n",
    "\n",
    "def get_max_power(moves, typ, category, min_acc):\n",
    "    moves = list(set(moves) - moves_w_recharge - moves_lower_attack - self_destroy)\n",
    "    highest = np.max([mdf.loc[m, 'power'] if m != 'Sketch' #sketch has a power of 0\n",
    "                                          and mdf.loc[m, 'category'] == category\n",
    "                                          and mdf.loc[m, 'accuracy'] >= min_acc \n",
    "                                          and mdf.loc[m, 'type'] == typ\n",
    "                                       else 0\n",
    "                        for m in moves])\n",
    "    return highest\n",
    "\n",
    "def get_primary(x):\n",
    "    atk_higher = x.atk >= x.spa\n",
    "    spa_higher = x.spa >= x.atk\n",
    "    candidates = []\n",
    "    for t in x.types:\n",
    "        candidates.append(x[t+'_physical'] if x.atk >= x.spa else 0)\n",
    "        candidates.append(x[t+'_special'] if x.atk <= x.spa else 0)\n",
    "    return np.max(candidates)\n",
    "\n",
    "for t in type_set:\n",
    "    df[t+'_physical'] = df.apply(lambda x: get_max_power(x.moves, t, 'Physical', 85), axis=1)\n",
    "    df[t+'_special'] = df.apply(lambda x: get_max_power(x.moves, t, 'Special', 85), axis=1)\n",
    "    highest_moves += [t+'_physical', t+'_special']\n",
    "\n",
    "df['primary_attack'] = df.apply(get_primary, axis=1)"
   ]
  },
  {
   "cell_type": "code",
   "execution_count": null,
   "metadata": {},
   "outputs": [],
   "source": [
    "offensive_pokemon = df.apply(lambda x: max(x['atk'], x['spa']) > max(x['def'], x['spd']), axis=1)\n",
    "a=sns.boxplot(data=df[offensive_pokemon], x='tier', y='primary_attack', palette='muted', order=tiers)\n",
    "a.set(title='Distribution of Primary Attack Power for Offensive Pokemon')\n",
    "None"
   ]
  },
  {
   "cell_type": "markdown",
   "metadata": {},
   "source": [
    "Contrary to our hypothesis, the primary attack feature gives us limited distinction between the tiers, even when we filter for exclusively offensive pokemon. This is likely because pokemon typically have access to strong moves of their own type. So, we will not use this feature when modelling. We will retain information about the power of moves of different types for each pokemon, as this varies a lot.\n",
    "\n",
    "There are likely common patterns for movepools of pokemon. Let's encode these moves into hot-vectors and see if we can cluster them. We will use K-modes, as this is categorical data."
   ]
  },
  {
   "cell_type": "code",
   "execution_count": null,
   "metadata": {},
   "outputs": [],
   "source": [
    "move_set = set()\n",
    "\n",
    "for ind, row in df.iterrows():\n",
    "    move_set |= row.moves\n",
    "\n",
    "move_df = df[['tier', 'tier_num']]\n",
    "\n",
    "for m in move_set:\n",
    "    move_df[m] = df.apply(lambda x: 1 if m in x.moves else 0, axis = 1)"
   ]
  },
  {
   "cell_type": "code",
   "execution_count": null,
   "metadata": {},
   "outputs": [],
   "source": [
    "from kmodes.kmodes import KModes\n",
    "import pickle\n",
    "\n",
    "num_clusters = list(range(1, 150))\n",
    "cost = []\n",
    "models = []\n",
    "temp_data = move_df[list(move_set)]\n",
    "\n",
    "'''\n",
    "for c in num_clusters:\n",
    "    km = KModes(n_clusters=c, init='Huang', n_init=5)\n",
    "    clusters = km.fit(temp_data)\n",
    "    cost.append(km.cost_)\n",
    "    models.append(km)\n",
    "    with open('model' + str(c) + '.pkl', 'wb') as f:\n",
    "       pickle.dump(km, f)\n",
    "'''\n",
    "\n",
    "with open('kmodes-cost.pkl', 'rb') as f:\n",
    "    cost = pickle.load(f)"
   ]
  },
  {
   "cell_type": "code",
   "execution_count": null,
   "metadata": {},
   "outputs": [],
   "source": [
    "plt.figure(figsize=(17,5))\n",
    "plt.gca().set(title='Cost vs Number of Clusters for K-Modes', xlabel='Number of Clusters', ylabel='Cost')\n",
    "plt.scatter(num_clusters, cost, s=20)\n",
    "plt.plot(num_clusters, cost)"
   ]
  },
  {
   "cell_type": "markdown",
   "metadata": {},
   "source": [
    "There is no distinct elbow in this curve. Clusters at interesting places, such as 39 and 12, were inspected but the groups did not have seem to have any particular structure or significance. For this reason, we will not use these clusterings for classification."
   ]
  },
  {
   "cell_type": "markdown",
   "metadata": {},
   "source": [
    "## Abilities <a class=\"anchor\" id=\"abilities\"></a>\n",
    "\n",
    "Finally, let's look at abilities. Like moves, there abilities that can make a mediocre pokemon extraordinary, such as Speed Boost on Blaziken. Unlike moves, a great pokemon that has only a bad ability can be ruined, such as Slow Start on Regigigas or Truant on Slaking. For this reason, we will analyze abilities very differently from moves: we shall focus on which abilities have a significant impact on a Pokemon's tier level.\n",
    "\n",
    "Let's first create a dataframe with the abilities and look at their occurences in each tier."
   ]
  },
  {
   "cell_type": "code",
   "execution_count": null,
   "metadata": {},
   "outputs": [],
   "source": [
    "from collections import defaultdict\n",
    "a_dict = defaultdict(int)\n",
    "\n",
    "for ind, row in df.iterrows():\n",
    "    for ability in row.abilities:\n",
    "        a_dict[(ability, row.tier + ' count')] += 1\n",
    "\n",
    "\n",
    "adf = pd.DataFrame(pd.Series(a_dict)).reset_index() #(columns=(['name'] + [t + ' Count' for t in tiers]))\n",
    "adf.columns=['name', 'tier', 'count']\n",
    "adf = adf.pivot_table(values='count', index='name', columns='tier', fill_value=-0)\n",
    "adf['count'] = sum(adf[t + ' count'] for t in tiers)"
   ]
  },
  {
   "cell_type": "code",
   "execution_count": null,
   "metadata": {},
   "outputs": [],
   "source": [
    "plt.figure(figsize=(20, 4))\n",
    "adf['count'].hist(bins=20, color=sns.color_palette('muted')[0])\n",
    "plt.gca().set(title='Frequencies of Abilities by the Number of Pokemon that have Them')"
   ]
  },
  {
   "cell_type": "markdown",
   "metadata": {},
   "source": [
    "As with the moves, relatively unique abilities are the most common. This makes sense: a lot of legendaries and other pokemon have their own abilities. Unlike moves, pokemon can have at most 3 abilities. Exclusive moves are therefore quite common, and so it would not make sense to investigate exclusive abilities.\n",
    "\n",
    "Typically, abilities have a positive or neutral effect. Bulbapedia supplies a list of abilities with negative effects; however, many of these abilities are not necessarily negative. For example, Contrary reverses stack changes inflicted on the pokemon. This is extremely advantageous (and is often leveraged) when using powerful moves that, as a side effect, lower the pokemon's stats. \n",
    "\n",
    "After reading through the list, the following abilities are truly negative in battle: Comatose, Defeatist, Emergency Exit, Slow Start, Stall, Truant, Wimp Out. Let's look at how many pokemon actually have these abilities as their only option(s) (as otherwise, they could choose a beneficial ability):"
   ]
  },
  {
   "cell_type": "code",
   "execution_count": null,
   "metadata": {},
   "outputs": [],
   "source": [
    "bad_abilities = {'Comatose', 'Defeatist', 'Emergency Exit', 'Slow Start', 'Truant', 'Wimp Out', 'Stall'}\n",
    "df['bad_ability'] = df.apply(lambda x: 1 if len(set(x['abilities']).intersection(bad_abilities)) == len(x['abilities'])\n",
    "                                       else 0, axis=1)\n",
    "df[df.bad_ability == 1]"
   ]
  },
  {
   "cell_type": "markdown",
   "metadata": {},
   "source": [
    "Upon inspection, it is likely these Pokemon would be in higher tiers without their respective abilities. Regigigas and Slaking have massive base stat totals with large movepools and neutral typing: a formula to be in UU at least. Archeops's typing and stats would find use in RU. It is hard to say if Golisopod and Komala would be elsewhere. To some extent, this new feature is a useful indicator."
   ]
  },
  {
   "cell_type": "markdown",
   "metadata": {},
   "source": [
    "## Evolutionary Stage <a class=\"anchor\" id=\"stage\"></a>\n",
    "\n",
    "When processing the data, we created a feature describing a pokemon's evolutionary stage. Let's see if this actually correlates with a pokemon's tier."
   ]
  },
  {
   "cell_type": "code",
   "execution_count": null,
   "metadata": {},
   "outputs": [],
   "source": [
    "evodf = df.loc[:, ['tier', 'tier_num', 'evo_progress']]\n",
    "evodf['count'] = evodf.apply(lambda x: 1/tier_size[x.tier], axis=1) \n",
    "#so when we sum everything up, values will be normalized to tier size\n",
    "evodf = evodf.pivot_table(values='count', index=['tier', 'tier_num'], columns='evo_progress', fill_value=0, aggfunc=np.sum)\n",
    "evodf = evodf.sort_values('tier_num').reset_index()\n",
    "del evodf['tier_num']\n",
    "evodf.columns = ['Tier', '0.50', '0.67', '1.00']\n",
    "evodf.set_index('Tier', inplace=True)\n",
    "\n",
    "plt.figure(figsize=(20, 4))\n",
    "evodf.plot.barh(stacked=True, color=sns.color_palette('muted')[2::-1], figsize=(12, 3), \n",
    "                title='Distribution of Evolutionary Stages by Tier')\n",
    "plt.legend(loc='center left', bbox_to_anchor=(1.0, 0.5),title='Evolutionary Progress')"
   ]
  },
  {
   "cell_type": "markdown",
   "metadata": {},
   "source": [
    "Pokemon that are 0.33 of the way through their evolutionary process are typically in the LC (Little Cup) tier, or are otherwise too weak to use in the main tiers. As expected, higher tiers are mostly composed of fully evolved pokemon. Partially evolved pokemon are still viable due to unique abilities or items, such as Eviolite which only works on unevolved pokemon. Interestingly, it seems like NU has more unevolved pokemon than PU. But recall, PU is a far larger tier than the rest, so it is also full of pokemon that don't evolve at all but are quite weak.\n",
    "\n",
    "Let's also look at the average distance between a pokemon and it's evolution in terms of tier. Note that all the unevolved pokemon in competitive tiers have only one more evolution."
   ]
  },
  {
   "cell_type": "code",
   "execution_count": null,
   "metadata": {},
   "outputs": [],
   "source": [
    "distdf = df.loc[df['evo_progress'] < 1, ['tier', 'tier_num','next_evos']] #'evo progress',\n",
    "distdf['dist'] = distdf.apply(lambda x: x.tier_num - np.max(df.loc[x.next_evos, 'tier_num']), axis=1)\n",
    "print('The next evolution of unevolved pokemon are on average {:.2f}±{:.2f} tiers above.'\n",
    "      .format(np.mean(distdf['dist']), np.std(distdf['dist'])))\n",
    "\n",
    "freqdf = distdf.reset_index()\n",
    "freqdf = freqdf[['dist', 'tier']].groupby('dist').count().reset_index()#.sort_values('tier_num\n",
    "freqdf.columns = ['Distance', 'Count']\n",
    "freqdf.set_index('Distance').plot.bar(title='Frequency of Tier Distances', legend=None)\n",
    "plt.ylabel('Frequency')"
   ]
  },
  {
   "cell_type": "markdown",
   "metadata": {},
   "source": [
    "On average, the evolved form of an unevolved pokemon in the competitive tiers is 2 tiers above it. Interestingly, Chansey is in a higher tier than its evolution: Blissey. This is due to eviolite: an item that significantly increases the defenses of unevolved pokemon. Both Chansey and Blissey serve as specially defensive walls, but Chansey plays this role better with the eviolite than Blissey does otherwise."
   ]
  },
  {
   "cell_type": "markdown",
   "metadata": {},
   "source": [
    "## Alternate Forms <a class=\"anchor\" id=\"forms\"></a>\n",
    "\n",
    "Like above, let's look at the distribution of normal, mega, and alternate forms in each tier. "
   ]
  },
  {
   "cell_type": "code",
   "execution_count": null,
   "metadata": {},
   "outputs": [],
   "source": [
    "altdf = df.loc[:, ['tier', 'tier_num', 'mega', 'alt_form']]\n",
    "altdf['mega'] = altdf.apply(lambda x: x.mega/tier_size[x.tier], axis=1) \n",
    "altdf['alt_form'] = altdf.apply(lambda x: x.mega/tier_size[x.tier], axis=1)\n",
    "altdf['normal'] = altdf.apply(lambda x: 1/tier_size[x.tier] if x['mega'] == 0 and x['alt_form'] == 0 else 0, axis=1)\n",
    "#so when we sum everything up, values will be normalized to tier size\n",
    "\n",
    "#altdf = altdf.pivot_table(values='count', index=['tier', 'tier_num'], columns='evo progress', fill_value=0, aggfunc=np.sum)\n",
    "altdf = altdf.groupby(['tier', 'tier_num']).agg(np.sum).reset_index().sort_values('tier_num')\n",
    "del altdf['tier_num']\n",
    "altdf.columns = ['Tier', 'Mega', 'Alternate', 'Base']\n",
    "altdf.set_index('Tier', inplace=True)\n",
    "\n",
    "plt.figure(figsize=(20, 4))\n",
    "altdf.plot.barh(stacked=True, color=sns.color_palette('muted')[2::-1], figsize=(12, 3), \n",
    "                title='Distribution of Forms by Tier')\n",
    "plt.legend(loc='center left', bbox_to_anchor=(1.0, 0.5),title='Form')\n",
    "#plt.savefig('dis_forms.png', bbox_inches='tight')"
   ]
  },
  {
   "cell_type": "markdown",
   "metadata": {},
   "source": [
    "As expected, higher tiers generally have more alternate/mega forms. There are very few pokemon with alternate forms; most of the ones that do are legendaries, so it makes sense that the Uber tier has the most alternate forms. Interestingly, OU has the most Mega evolutions, which makes sense because primarily non-legendary pokemon receive mega evolutions, and few mega-evolutions are extraordinary in the competitive scene (though they often outclass their base forms).\n",
    "\n",
    "Similar to evolutions, let's look at the average distance between a pokemon and its alternate form. Since one Pokemon can have multiple alternate forms, we will instead look at the average tier of base pokemon with alternate forms vs the average tier of the alternate forms of those base pokemon."
   ]
  },
  {
   "cell_type": "code",
   "execution_count": null,
   "metadata": {},
   "outputs": [],
   "source": [
    "alt = df.loc[(df['alt_form'] == 1), ['tier_num']]\n",
    "mega = df.loc[(df['mega'] == 1), ['tier_num']]\n",
    "alt_base = df.loc[set(map(lambda x: x.split('-')[0], alt.index)), ['tier_num']]\n",
    "mega_base = df.loc[set(map(lambda x: x.split('-')[0], mega.index)), ['tier_num']]\n",
    "\n",
    "alt['Form'] = 'Alternate'\n",
    "mega['Form'] = 'Mega'\n",
    "alt_base['Form'] = 'Alternate Base'\n",
    "mega_base['Form'] = 'Mega Base'\n",
    "\n",
    "combined = pd.concat([mega, mega_base, alt, alt_base])\n",
    "combined.columns = ['Tier', 'Form']\n",
    "combined['vals'] = 1\n",
    "plt.yticks(rotation=90)\n",
    "combined = combined.pivot_table(values='vals',columns='Form', index='Tier', aggfunc=np.sum, fill_value=0)\n",
    "g = sns.heatmap(combined, cbar=False, annot=True, cmap='Reds', yticklabels=tiers)\n",
    "g.set(title='Distribution of Forms among Tiers')\n",
    "plt.yticks(rotation=0) \n",
    "None"
   ]
  },
  {
   "cell_type": "markdown",
   "metadata": {},
   "source": [
    "As expected, mega evolutions are well above their base counterparts (the median is at OU). Alternate forms tend to be higher than their base forms (based on the median), but difference is not as defined. Interestingly, all the forms but mega are represented in all the tiers. These results make sense, as mega evolutions were designed to be direct upgrades to their counterparts, while alternate forms are often exactly their namesakes: alternates."
   ]
  },
  {
   "cell_type": "markdown",
   "metadata": {},
   "source": [
    "## Anomaly Analysis <a class=\"anchor\" id=\"anomaly\"></a>"
   ]
  },
  {
   "cell_type": "markdown",
   "metadata": {},
   "source": [
    "Intuitively, a pokemon's offensive and defensive stats should be strong indicators of what tier they will be in; however, analysis above revealed that there is much uncertainty in averages by tier and so it is not a reliable indicator. Let's investigate some outliers in each tier to get an idea of what causes this uncertainty. We will consider pokemon whose base stat totals are outside of 2 standard deviations of their tier's mean."
   ]
  },
  {
   "cell_type": "code",
   "execution_count": null,
   "metadata": {},
   "outputs": [],
   "source": [
    "bstdf = df[['tier', 'bst']].groupby('tier').agg([np.mean, np.std])\n",
    "bstdf.columns = ['bst_mean', 'bst_std']\n",
    "df2 = df.reset_index().merge(bstdf, left_on='tier', right_on='tier')\n",
    "\n",
    "under = df2[(df2['bst'] < df2['bst_mean'] - 2*df2['bst_std']) & (df2['tier'] != 'PU')]\n",
    "over = df2[(df2['bst'] > df2['bst_mean'] + 2*df2['bst_std']) & (df2['tier'] != 'Uber')]\n",
    "\n",
    "under[['tier', 'name', 'types', 'abilities', 'hp', 'atk', 'def', 'spa', 'spd', 'spe', 'bst', 'bst_mean', 'evo_progress', 'num_moves', 'num_exclusive']]"
   ]
  },
  {
   "cell_type": "markdown",
   "metadata": {},
   "source": [
    "Listed above are pokemon who's stats appear to be too weak for their tier. Upon further research, here are the reasons why they are in their respective tiers (all quotes are from Smogon, a strategy guide).\n",
    "\n",
    "**Linoone**: \"Linoone has unique access to Belly Drum and Extreme Speed, making up for its mediocre Attack stat and allowing it to OHKO [one hit knock out] most of the tier after a Belly Drum.\" Belly Drum increases a pokemon's attack by +6 (a 3x multiplier) and Extreme Speed is a strong has +2 priority (which makes it move before other moves regardless of speed). Linoone also has receives a Same Type Attack Bonus (STAB, which is 1.5x) on the 80 base power (BP) Extreme Speed. Clearly, a potent combination.\n",
    "\n",
    "**Marowak-Alola**: \"Alolan Marowak's offensive typing in conjunction with Thick Club gives it a strong niche on Trick Room teams as a wallbreaker.\" Thick club is an item that doubles only Marowak/Cubone's attack.\n",
    "\n",
    "**Medicham**: The ability Pure Power double's Medicham's attack which, combined with its good typing, makes it powerful in its tier.\n",
    "\n",
    "**Vivilion**: \"The combination of its access to Quiver Dance, decent Speed and Special Attack, and good offensive typing makes Vivillon one of the deadliest setup sweepers in NU\"\n",
    "\n",
    "**Aegislash / Aegislash-Blade**: Overall, it's unique stat distribution, strong defensive typing, useful moves and unique ability make it a great counter to many pokemon in Ubers.\n",
    "\n",
    "**Azumarill**: \"Azumarill is a decent sweeper in the OU metagame with the combination of Belly Drum, Aqua Jet, and its ability Huge Power.\" Similar to Linoone's Extreme Speed, Aqua Jet is a STAB priority move. Huge Power has the same effect as Pure Power (double's the pokemon's attack).\n",
    "\n",
    "**Diggersby**: \"Diggersby is one of the best physical wallbreakers in the metagame thanks to Huge Power along with its access to great STAB attacks, coverage in Fire Punch, and priority in Quick Attack.\"\n",
    "\n",
    "#### Summary\n",
    "Pokemon with weak stats in higher tiers almost always have an ability or set-up move that significantly boosts their offensive stats, along with a move or two to support it. "
   ]
  },
  {
   "cell_type": "code",
   "execution_count": null,
   "metadata": {},
   "outputs": [],
   "source": [
    "over[['tier', 'name', 'types', 'abilities', 'hp', 'atk', 'def', 'spa', 'spd', 'spe', 'bst', 'bst_mean', 'evo_progress', 'num_moves', 'num_exclusive', 'bad_ability']]"
   ]
  },
  {
   "cell_type": "markdown",
   "metadata": {},
   "source": [
    "Listed above are pokemon who's stats appear to be too strong for their tier. Once again, from Smogon:\n",
    "\n",
    "**Regigigas / Slaking**: Both have ridiculously high stats, but are crippled by their abilities. Slow Start halves the pokemon's attack and speed for the first five turns. Truant prevents the pokemon from attacking every other term.\n",
    "\n",
    "**Wishiwashi-School**: This pokemon is also crippled by it's ability. Its HP is already quite low, but once that drops below 1/4, it reverts to its solo form, which has a pitiful BST of 175.\n",
    "\n",
    "**Blastoise-Mega**: This case is quite interesting. It has great stats, a decent ability, and access to useful moves like Rapid Spinner. It seems like it could play the role of a defensive Bulky-Water. However, it has two flaws: lack of access to a recovery move (which a pokemon in such a role would need) and there are simply better options.\n",
    "\n",
    "**Kyurem**: Another very powerful pokemon that simply has stronger alternatives: its alternate forms. Also, despite it's strong offensive stats, its speed and access to a spammable ice moves make it less than ideal for Ubers.\n",
    "\n",
    "**Diancie**: Unique typing, and high defenses makes it seem like a strong pokemon. However, low HP renders it's defenses nearly useless. Also, it's outshone by its mega evolution (who is in OU).\n",
    "\n",
    "**Guzzlord**: It has great typing and seems to be a defensive tank, however, it's low defenses really let down its massive HP. Furthermore, its seemingly great typing is unfortunately weak to many common attacking type. \n",
    "\n",
    "**Uxie**: Strange stat distribution. High defenses without decent HP is not very useful (especially with mediocre defensive typing). \n",
    "\n",
    "#### Summary\n",
    "High stats with a strange distribution is not helpful or with a detrimental ability will force a pokemon into a low tier.\n",
    "\n",
    "#### Take Away\n",
    "Based on Blastoise, access to recovery is an important aspect of a defensive pokemon. Otherwise, all the information we need to determine if a pokemon with high stats would end up in a lower tier is already contained in the data we have. Pokemon in high tiers with low stats, however, seem to benefit greatly from stat increasing moves, abilities, and STAB priority moves. Let's create features for these. \n",
    "\n",
    "First, reliable stat increasing moves. We will only consider moves that increase a stat (or multiply) by more than one stage. We will ignore evasion increasing moves, as these are illegal in competitive play. Let's also ignore moves that increase only the defenses, as we have not seen evidence that these are particularly beneficial. We will also quantify the net increase each move provides."
   ]
  },
  {
   "cell_type": "code",
   "execution_count": null,
   "metadata": {},
   "outputs": [],
   "source": [
    "#defenses only: {'Acid Armor': 2, 'Barrier': 2,' Cotton Guard': 3, 'Iron Defense': 2, 'Stockpile': 2, 'Amnesia': 2\n",
    "stat_increasing = {'Coil': 3, 'Hone Claws': 2, 'Belly Drum': 6, 'Bulk Up': 2, 'Clangorous Soulblaze': 4, \n",
    "                   'Dragon Dance': 2, 'Shell Smash': 4, 'Shift Gear': 3, 'Swords Dance': 2, 'Work Up': 2,\n",
    "                   'Cosmic Power': 2,  'Defend Order': 2, 'Calm Mind': 2, 'Geomancy': 6, \n",
    "                   'Nasty Plot': 2, 'Quiver Dance': 3, 'Tail Glow': 3, 'Agility': 2, 'Automize': 2, 'Rock Polish': 2}\n",
    "\n",
    "\n",
    "df['stat_inc_move'] = df.apply(lambda x: np.max([0]+[stat_increasing[v] for v in x.moves.intersection(stat_increasing)]), axis=1)"
   ]
  },
  {
   "cell_type": "markdown",
   "metadata": {},
   "source": [
    "Now, boosting abilities. Most abilities require the pokemon to satisfy some sort of condition before boosting their stats, but the two abilities we saw above boost the pokemon's offensive stats unconditionally. Let's create a feature for abilities like these (which happens to be just those two):"
   ]
  },
  {
   "cell_type": "code",
   "execution_count": null,
   "metadata": {},
   "outputs": [],
   "source": [
    "atk_inc_ability = {'Huge Power', 'Pure Power'}\n",
    "df['atk_inc_ability'] = df.apply(lambda x: 1 if len(set(x.abilities).intersection({'Huge Power', 'Pure Power'})) > 0 else 0, axis=1)"
   ]
  },
  {
   "cell_type": "markdown",
   "metadata": {},
   "source": [
    "Next, reliable recovery moves. We will consider moves that immediately heal without side effects to be reliable."
   ]
  },
  {
   "cell_type": "code",
   "execution_count": null,
   "metadata": {},
   "outputs": [],
   "source": [
    "recovery = {'Heal Order', 'Milk Drink', 'Moonlight', 'Morning Sun', 'Purify', 'Recover',\n",
    "            'Roost', 'Shore Up', 'Slack Off', 'Soft-Boiled', 'Synthesis', 'Strength Sap', 'Wish'}\n",
    "df['recovery_move'] = df.apply(lambda x: 1 if len(x.moves.intersection(recovery)) > 0 else 0, axis=1)"
   ]
  },
  {
   "cell_type": "markdown",
   "metadata": {},
   "source": [
    "Finally, STAB priority moves. We will not consider Quick Attack, as it is so common and not useful in competitive play (due to power and type). One important consideration are the moves Fake Out, Extreme Speed, and Sucker Punch. Without going into detail, generally, the limitations of these moves balance their advantages, so we will consider them equally for simplicity."
   ]
  },
  {
   "cell_type": "code",
   "execution_count": null,
   "metadata": {},
   "outputs": [],
   "source": [
    "priority = {'Fake Out', 'Extreme Speed', 'Feint', 'Aqua Jet', 'Bullet Punch', 'Ice Shard', 'Accelerock'\n",
    "            'Mach Punch', 'Shadow Sneak', 'Sucker Punch', 'Vacuum Wave', 'Water Shuriken'}\n",
    "df['priority_stab'] = df.apply(lambda x: 1 if any([(mdf.loc[m, 'type'] in x.types) \n",
    "                                                   for m in x.moves.intersection(priority)]) else 0,\n",
    "                               axis=1)"
   ]
  },
  {
   "cell_type": "markdown",
   "metadata": {},
   "source": [
    "## Modelling <a class=\"anchor\" id=\"modelling\"></a>\n",
    "\n",
    "### Feature Space Reduction <a class=\"anchor\" id=\"feature-reduce\"></a>"
   ]
  },
  {
   "cell_type": "markdown",
   "metadata": {},
   "source": [
    "Before we encode the categorical variables, we should make another effort to reduce the high dimensional  ability data. In pokemon, some abilities have near-identical counterparts with different names. We will consolidate these. This information is from Bulbapedia."
   ]
  },
  {
   "cell_type": "code",
   "execution_count": null,
   "metadata": {},
   "outputs": [],
   "source": [
    "#To do this efficiently, we will simply create a dictionary of moves and abilities.\n",
    "#We will map all of them to themselves to start, then alter the variations\n",
    "ability_set = set()\n",
    "move_set = set()\n",
    "type_set = set()\n",
    "\n",
    "for ind, row in df.iterrows():\n",
    "    ability_set |=  set(row.abilities) #union\n",
    "    move_set |= row.moves\n",
    "    type_set |= set(row.types)\n",
    "\n",
    "ability_dict = {s:{s} for s in ability_set if s not in {\n",
    "                   'Battle Armor', 'White Smoke', 'Full Metal Body', 'Solid Rock', 'Prism Armor', 'Gooey', \n",
    "                   'Magnet Pull', 'Shadow Tag', 'Inner Focus', 'Insomnia', 'Vital Spirit', 'Limber', 'Magma Armor', \n",
    "                  'Own Tempo', 'Oblivious', 'Water Veil', 'Sweet Veil', 'Aroma Veil', 'Hyper Cutter', 'Big Pecks',\n",
    "                   'Triage', 'Heatproof', 'Iron Barbs', 'Quick Feet', 'Flare Boost', 'Toxic Boost'\n",
    "               }} #dictionary of sets\n",
    "\n",
    "#We will not consolidate weather-variations because the viability of various weather conditions varies\n",
    "\n",
    "ability_dict['Shell Armor'].add('Battle Armor')\n",
    "ability_dict['Clear Body'] |= {'White Smoke', 'Full Metal Body'}\n",
    "ability_dict['Filter'] |= {'Solid Rock', 'Prism Armor'}\n",
    "ability_dict['Tangling Hair'].add('Gooey')\n",
    "\n",
    "# Below are cases where the abilities aren't identical, but close enough\n",
    "ability_dict['Arena Trap'] |= {'Magnet Pull', 'Shadow Tag'} \n",
    "ability_dict['Guts'] |= {'Quick Feet', 'Flare Boost', 'Toxic Boost'} # Marvel scale is excluded from this because it boosts defense\n",
    "ability_dict['Immunity'] |= {'Inner Focus', 'Insomnia', 'Vital Spirit', 'Limber', 'Magma Armor', \n",
    "          'Own Tempo', 'Oblivious', 'Water Veil', 'Sweet Veil', 'Aroma Veil'}\n",
    "ability_dict['Keen Eye'] |= {'Hyper Cutter', 'Big Pecks'} \n",
    "ability_dict['Prankster'].add('Triage')\n",
    "ability_dict['Thick Fat'].add('Heatproof')\n",
    "ability_dict['Rough Skin'].add('Iron Barbs')\n",
    "#water absorb and dry skin?"
   ]
  },
  {
   "cell_type": "markdown",
   "metadata": {},
   "source": [
    "In the anomaly analysis section, we made features based on groups of moves. We can continue to do so based on my experience playing competitive as well as articles from Smogon."
   ]
  },
  {
   "cell_type": "code",
   "execution_count": null,
   "metadata": {},
   "outputs": [],
   "source": [
    "entry_hazards = {'Toxic Spikes', 'Stealth Rock', 'Spikes'}\n",
    "df['entry_hazards'] = df.apply(lambda x: 1 if len(x.moves.intersection(entry_hazards)) > 0 else 0, axis=1)\n",
    "\n",
    "hazard_clear = {'Rapid Spin'} #we may later exclude/add defog \n",
    "df['hazard_clear'] = df.apply(lambda x: 1 if len(x.moves.intersection(hazard_clear)) > 0 else 0, axis=1)\n",
    "\n",
    "phazing_moves = {'Roar', 'Whirlwind', 'Dragon Tail', 'Circle Throw'}\n",
    "df['phazing_moves'] = df.apply(lambda x: 1 if len(x.moves.intersection(phazing_moves)) > 0 else 0, axis=1)\n",
    "\n",
    "switch_attack = {'U-turn', 'Volt Switch'}\n",
    "df['switch_attack'] = df.apply(lambda x: 1 if len(x.moves.intersection(switch_attack)) > 0 else 0, axis=1)\n",
    "\n",
    "#strong moves (>65 power) that have a >30% chance of causing side effects with an accuracy over 85%\n",
    "high_side_fx_prob = {'Steam Eruption','Sludge Bomb', 'Lava Plume', 'Iron Tail', 'Searing Shot', \n",
    "                     'Rolling Kick', 'Rock Slide', 'Poison Jab', 'Muddy Water', 'Iron Head',\n",
    "                    'Icicle Crash', 'Headbutt', 'Gunk Shot', 'Discharge', 'Body Slam', 'Air Slash'}\n",
    "df['high_side_fx_prob'] = df.apply(lambda x: 1 if len(x.moves.intersection(high_side_fx_prob)) > 0 else 0, axis=1)\n",
    "\n",
    "constant_dmg = {'Seismic Toss', 'Night Shade'}\n",
    "df['constant_dmg'] = df.apply(lambda x: 1 if len(x.moves.intersection(constant_dmg)) > 0 else 0, axis=1)\n",
    "\n",
    "trapping_move = {'Mean Look', 'Block', 'Spider Web'}\n",
    "df['trapping_move'] = df.apply(lambda x: 1 if len(x.moves.intersection(trapping_move)) > 0 else 0, axis=1)"
   ]
  },
  {
   "cell_type": "markdown",
   "metadata": {},
   "source": [
    "### Encoding Data <a class=\"anchor\" id=\"encoding\"></a>\n",
    "\n",
    "Let's create x and y dataframes."
   ]
  },
  {
   "cell_type": "code",
   "execution_count": null,
   "metadata": {},
   "outputs": [],
   "source": [
    "stats = ['hp', 'atk', 'def', 'spa', 'spd', 'spe'] #bst excluded\n",
    "forms = ['evo_progress', 'mega', 'alt_form']\n",
    "moves_based = ['num_moves','num_exclusive', 'bad_ability', 'stat_inc_move', 'recovery_move', 'priority_stab',\n",
    "              'entry_hazards', 'hazard_clear', 'phazing_moves', 'switch_attack', 'high_side_fx_prob', 'constant_dmg',\n",
    "              'trapping_move']\n",
    "ability_based = ['atk_inc_ability', 'bad_ability']\n",
    "\n",
    "df_y = df.loc[:, 'tier_num']\n",
    "df_x = df.loc[:, stats + forms + moves_based + ability_based + highest_moves] \n",
    "#remove bst because it is just a sum of the individual stats"
   ]
  },
  {
   "cell_type": "markdown",
   "metadata": {},
   "source": [
    "Next, we want to encode the categorical variables: types, abilities, and moves. We created features for some abilities and moves, so we will remove those from the encoding. Let's also remove exclusive moves and abilities, as we training/testing with moves/abilities with few samples will yield more noise than benefit."
   ]
  },
  {
   "cell_type": "code",
   "execution_count": null,
   "metadata": {},
   "outputs": [],
   "source": [
    "ability_set -= atk_inc_ability | bad_abilities | set(adf[adf['count'] <= 2].index)\n",
    "move_set -=  stat_increasing.keys() | recovery | priority | set(mdf[(mdf['count'] <= 3) | (mdf['power'] > 0)].index) \\\n",
    "             | entry_hazards | hazard_clear | phazing_moves | switch_attack | high_side_fx_prob | constant_dmg | trapping_move\n",
    "\n",
    "for a in ability_dict.keys():\n",
    "    df_x[a] = df.apply(lambda x: 1 if len(ability_dict[a].intersection(x.abilities))>0 else 0, axis = 1)\n",
    "for m in move_set:\n",
    "    df_x[m] = df.apply(lambda x: 1 if m in x.moves else 0, axis = 1)\n",
    "for t in type_set:\n",
    "    df_x[t] = df.apply(lambda x: 1 if t in x.types else 0, axis = 1)"
   ]
  },
  {
   "cell_type": "markdown",
   "metadata": {},
   "source": [
    "We have been working on reducing the number of features for regression by consolidating features (we currently have 492 features). However, we have a lot of features where only 1 or 2 pokemon have that feature. Let's count the number of non-zero entries for each feature. Features that are very sparse will likely add more noise than regression power, so we will remove these."
   ]
  },
  {
   "cell_type": "code",
   "execution_count": null,
   "metadata": {},
   "outputs": [],
   "source": [
    "counts = df_x.astype(bool).sum(axis=0)\n",
    "#let's exclude our engineered features and let the model decide if those are important\n",
    "counts.drop(stats + forms + moves_based + ability_based + highest_moves, inplace=True)\n",
    "cutoff = list(range(1, 30))\n",
    "num_vars = [len(df_x.drop(counts[counts<=c].index.values, axis=1).columns) for c in cutoff]"
   ]
  },
  {
   "cell_type": "code",
   "execution_count": null,
   "metadata": {},
   "outputs": [],
   "source": [
    "fig, ax = plt.subplots(figsize=(15, 4))\n",
    "ax.set(title='Number of Features vs Minimum Number of Pokemon with that Feature', \n",
    "       xlabel='Min Pokemon with Feature',ylabel='Number of Features')\n",
    "ax.scatter(cutoff, num_vars, s=50)\n",
    "None"
   ]
  },
  {
   "cell_type": "markdown",
   "metadata": {},
   "source": [
    "For now, let's use a cutoff of at least 8 pokemon with a feature, bringing out feature count under 400."
   ]
  },
  {
   "cell_type": "code",
   "execution_count": null,
   "metadata": {},
   "outputs": [],
   "source": [
    "df_x.drop(counts[counts<=7].index.values, axis=1, inplace=True)\n",
    "len(df_x.columns)"
   ]
  },
  {
   "cell_type": "markdown",
   "metadata": {},
   "source": [
    "### Exploratory Modelling/ Feature Selection <a class=\"anchor\" id=\"em\"></a>\n",
    "\n",
    "Before selecting features using lasso, let's use a normal Linear Regression to determine if the response (mostly) linear. We will examine the residual and studentized residual plots."
   ]
  },
  {
   "cell_type": "code",
   "execution_count": null,
   "metadata": {},
   "outputs": [],
   "source": [
    "import statsmodels.api as sm\n",
    "\n",
    "temp_df_x = df_x.copy()\n",
    "temp_df_x['Intercept'] = np.ones((len(temp_df_x),))\n",
    "ols_model = sm.OLS(df_y, temp_df_x).fit()\n",
    "\n",
    "def fitted_to_tier(num):\n",
    "    if num < 0: return 0\n",
    "    elif num > 5: return 5\n",
    "    else: return num\n",
    "\n",
    "results = df_y.to_frame()\n",
    "results['Fitted Values'] = ols_model.predict(temp_df_x)\n",
    "results['Modified Fitted Values'] = results['Fitted Values'].map(fitted_to_tier)\n",
    "results['Residuals'] = df_y.values - ols_model.predict(temp_df_x)\n",
    "\n",
    "fig, ax = plt.subplots(1, 2, figsize=(15, 4))\n",
    "ax[0].set(title='Residuals vs Fitted Values')\n",
    "ax[1].set(title='Residuals vs Fitted Values as Contour Plot')\n",
    "sns.regplot(data=results, x='Fitted Values', y='Residuals', ax=ax[0], scatter_kws={'s':8})\n",
    "sns.kdeplot(data=results[['Fitted Values', 'Residuals']], ax=ax[1])"
   ]
  },
  {
   "cell_type": "markdown",
   "metadata": {},
   "source": [
    "We modified the fitted values because values above or below the tier range will be placed in the nearest respective tier (PU or Uber). The residuals have a mean of zero, but do not seem to be normally distributed at all. Let's check:"
   ]
  },
  {
   "cell_type": "code",
   "execution_count": null,
   "metadata": {},
   "outputs": [],
   "source": [
    "fig, ax = plt.subplots(figsize=(10, 3))\n",
    "ax.set(title='Distribution of Residuals', ylabel='Count', xlabel='Residuals')\n",
    "results['Residuals'].hist(ax=ax, bins=15)"
   ]
  },
  {
   "cell_type": "markdown",
   "metadata": {},
   "source": [
    "Clearly, our residuals are practically normally distributed, but a bit left skewed. We can still use Lasso to identify some useful features."
   ]
  },
  {
   "cell_type": "code",
   "execution_count": null,
   "metadata": {},
   "outputs": [],
   "source": [
    "results['Studentized Residuals'] = ols_model.outlier_test().student_resid\n",
    "fig, ax = plt.subplots(figsize=(10, 4))\n",
    "ax.set(title='Studentized Residuals vs Fitted Values')\n",
    "sns.regplot(data=results, x='Fitted Values', y='Studentized Residuals', ax=ax)"
   ]
  },
  {
   "cell_type": "markdown",
   "metadata": {},
   "source": [
    "The Studentized Residuals clearly show some outlier points. Let's investigate these."
   ]
  },
  {
   "cell_type": "code",
   "execution_count": null,
   "metadata": {},
   "outputs": [],
   "source": [
    "results[abs(results['Studentized Residuals']) >= 3]"
   ]
  },
  {
   "cell_type": "markdown",
   "metadata": {},
   "source": [
    "Technically, the model correctly identified Wishiwashi as a PU pokemon (as a rating of 7 would be rounded down to 5, putting it into PU). \n",
    "\n",
    "According to Smogon, for Claydol, \"Don't use this Pokemon unless your team really can't afford to run separate Stealth Rock and entry hazard control options; its semi-unique ability to run both Stealth Rock and Rapid Spin simultaneously is the only reason you should really consider using it.\" We already have features that cover Stealth Rock and Rapid Spin. Hopefully a better model will be able to discern this."
   ]
  },
  {
   "cell_type": "markdown",
   "metadata": {},
   "source": [
    "Let's use Lasso to see if our notions about important features were correct. I wrote bootstrapping code to compute confidence intervals, but this is not particularly helpful considering the current sizes of our feature set vs dataset.\n",
    "\n",
    "We must keep in mind that this will not help us select features. By nature, the tiering system relies on complex interaction between the features that we have. The lasso model we will use is additive, and therefore, does not model interactions by default."
   ]
  },
  {
   "cell_type": "code",
   "execution_count": null,
   "metadata": {},
   "outputs": [],
   "source": [
    "from sklearn import linear_model\n",
    "from sklearn import feature_selection\n",
    "from sklearn.metrics import mean_squared_error\n",
    "from sklearn.utils import resample "
   ]
  },
  {
   "cell_type": "code",
   "execution_count": null,
   "metadata": {},
   "outputs": [],
   "source": [
    "alphas, rmse, num_sig = np.arange(0.0001, 0.1, 0.0001), [], []\n",
    "\n",
    "for a in alphas:\n",
    "    reg = linear_model.Lasso(alpha=a, normalize=True, max_iter=10000)\n",
    "    '''\n",
    "    temp_rmse, temp_sig = [], []\n",
    "    for i in range(500):\n",
    "        temp_x, temp_y = resample(df_x, df_y, n_samples=400)\n",
    "        reg.fit(temp_x, temp_y)\n",
    "        temp_rmse.append(np.sqrt(mean_squared_error(df_y, reg.predict(df_x))))\n",
    "        temp_sig.append(reg.coef_)\n",
    "    \n",
    "    temp_sig = zip(*temp_sig) #flips\n",
    "    temp_sig2 = [(np.mean(coef), np.std(coef)) for coef in temp_sig]\n",
    "    \n",
    "    rmse.append(np.mean(temp_rmse))\n",
    "    num_sig.append(np.sum([1 for c in temp_sig2 if abs(c[0]) >= c[1] and abs(c[0]) > 0.0001]))\n",
    "    '''\n",
    "    reg.fit(df_x, df_y)\n",
    "    rmse.append(np.sqrt(mean_squared_error(df_y, reg.predict(df_x))))\n",
    "    num_sig.append(sum([1 for c in reg.coef_ if abs(c) > 0.0001]))\n",
    "    #not c[0]-2*c[1] <= 0 <= c[0]+2*c[1]"
   ]
  },
  {
   "cell_type": "code",
   "execution_count": null,
   "metadata": {
    "scrolled": true
   },
   "outputs": [],
   "source": [
    "def easy_dual_plot(x, y1, y2, figsize=(12, 4), title='', xlabel='', ylabel1='', ylabel2=''):\n",
    "    fig, ax = plt.subplots(figsize=figsize) #2, 1, \n",
    "    ax.set(title=title)\n",
    "    ax.plot(x, y1, color='b')\n",
    "    ax.set_xlabel(xlabel)\n",
    "    ax.set_ylabel(ylabel1, color='b')\n",
    "    ax.tick_params('y', colors='b')\n",
    "\n",
    "    ax2 = ax.twinx()\n",
    "    ax2.plot(x, y2, color='r')\n",
    "    ax2.set_ylabel(ylabel2, color='Red')\n",
    "    ax2.tick_params('y', colors='r')\n",
    "\n",
    "easy_dual_plot(alphas, rmse, num_sig, title='RMSE and # Non-Zero Features vs Alpha',\n",
    "               xlabel='Alpha', ylabel1='RMSE', ylabel2='# 65% Confidence Non-zero Features')"
   ]
  },
  {
   "cell_type": "code",
   "execution_count": null,
   "metadata": {
    "scrolled": true
   },
   "outputs": [],
   "source": [
    "reg = linear_model.Lasso(alpha=0.003, normalize=True, max_iter=100000)\n",
    "reg.fit(df_x, df_y)\n",
    "'''\n",
    "temp_sig=[]\n",
    "for i in range(1000):\n",
    "    temp_x, temp_y = resample(df_x, df_y, n_samples=400)\n",
    "    reg.fit(temp_x, temp_y)\n",
    "    temp_rmse.append(np.sqrt(mean_squared_error(df_y, reg.predict(df_x))))\n",
    "    temp_sig.append(reg.coef_)\n",
    "    \n",
    "temp_sig = zip(*temp_sig) #flips\n",
    "reg_coef = [np.mean(coef) for coef in temp_sig]\n",
    "std = [np.std(coef) for coef in temp_sig]\n",
    "'''\n"
   ]
  },
  {
   "cell_type": "code",
   "execution_count": null,
   "metadata": {},
   "outputs": [],
   "source": [
    "coef = sorted([(prop, c) for c, prop in zip(reg.coef_, df_x.columns)], key=(lambda x: -abs(x[1])))\n",
    "coef = list(filter(lambda x: abs(x[1]) > 0.0001, coef))\n",
    "print('{} non-zero features'.format(sum([1 for c in coef if abs(c[1]) > 0.0001])))\n",
    "print()\n",
    "print(\"{0:<18} {1:>6}\".format('Feature', 'Coeff')) #{2:>10} , 'Std'\n",
    "print('-'*26)\n",
    "for c in coef:\n",
    "    #print(\"{0:<18} {1:>6.3f} {2:>10.3f} {3}\".format(*c, ('  65% Confident' if abs(c[1]) > 2*abs(c[2]) else '')))\n",
    "    print(\"{0:<18} {1:>6.3f}\".format(*c)) #{2:>10.3f}"
   ]
  },
  {
   "cell_type": "markdown",
   "metadata": {},
   "source": [
    "Most of the coefficients are in line with what we expected, with no notable exceptions. However, we cannot necessarily use this information as is to further select features, as all these predictors heavily interact with eachother.\n",
    "\n",
    "Let's tackle this regression problem with a model that inherently accounts for interaction: a Decision Tree."
   ]
  },
  {
   "cell_type": "code",
   "execution_count": null,
   "metadata": {},
   "outputs": [],
   "source": [
    "import sklearn.ensemble as ens\n",
    "import sklearn.tree as tree\n",
    "from sklearn.model_selection import cross_val_score\n",
    "\n",
    "model = tree.DecisionTreeRegressor(max_depth=15, max_leaf_nodes = 30)\n",
    "model.fit(df_x, df_y)\n",
    "\n",
    "train_rmse = np.mean(np.sqrt(mean_squared_error(df_y, model.predict(df_x))))\n",
    "cv_rmse = np.mean(np.sqrt(-cross_val_score(model, df_x, df_y, cv=10, scoring='neg_mean_squared_error')))\n",
    "print('Train Error: {}'.format(train_rmse))\n",
    "print('CV Error:    {}'.format(cv_rmse))"
   ]
  },
  {
   "cell_type": "code",
   "execution_count": null,
   "metadata": {},
   "outputs": [],
   "source": [
    "from sklearn.externals.six import StringIO  \n",
    "from IPython.display import Image  \n",
    "from sklearn.tree import export_graphviz\n",
    "import pydotplus\n",
    "\n",
    "dot_data = StringIO()\n",
    "g = tree.export_graphviz(model, out_file=dot_data,  \n",
    "                filled=True, rounded=True,\n",
    "                special_characters=True,\n",
    "                feature_names=df_x.columns)\n",
    "graph = pydotplus.graph_from_dot_data(dot_data.getvalue())  \n",
    "Image(graph.create_png())"
   ]
  },
  {
   "cell_type": "markdown",
   "metadata": {},
   "source": [
    "This classifier is not very good, but it has given us much insight about the features. Our generated features seem to help this decision tree split samples. \n",
    "\n",
    "Our goal is to create a model that, in a sense, understand what makes a pokemon stronger or weaker. After iterating through several versions of this decision tree, I noticed that the tree split based on a move that is not used at all in competitive. This means the model is overfitting (which we knew) and just capturing noise in the data. Let's remove all the move indicators altogether."
   ]
  },
  {
   "cell_type": "code",
   "execution_count": null,
   "metadata": {},
   "outputs": [],
   "source": [
    "df_x.drop(list(move_set.intersection(set(df_x.columns))), axis=1, inplace=True)\n",
    "\n",
    "model2 = tree.DecisionTreeRegressor(max_depth=10, max_leaf_nodes = 20)\n",
    "model2.fit(df_x, df_y)\n",
    "\n",
    "train_rmse = np.mean(np.sqrt(mean_squared_error(df_y, model2.predict(df_x))))\n",
    "cv_rmse = np.mean(np.sqrt(-cross_val_score(model2, df_x, df_y, cv=10, scoring='neg_mean_squared_error')))\n",
    "print('Train Error: {}'.format(train_rmse))\n",
    "print('CV Error:    {}'.format(cv_rmse))"
   ]
  },
  {
   "cell_type": "code",
   "execution_count": null,
   "metadata": {},
   "outputs": [],
   "source": [
    "dot_data = StringIO()\n",
    "g = tree.export_graphviz(model2, out_file=dot_data,  \n",
    "                filled=True, rounded=True,\n",
    "                special_characters=True,\n",
    "                feature_names=df_x.columns)\n",
    "graph = pydotplus.graph_from_dot_data(dot_data.getvalue())  \n",
    "Image(graph.create_png())"
   ]
  },
  {
   "cell_type": "markdown",
   "metadata": {},
   "source": [
    "### Model Selection <a class=\"anchor\" id=\"model-selection\"></a>\n",
    "\n",
    "Based on our classification task (ordinal classification, which we will achieve through regression), data size, and data characteristics, a tree-based model appears to be the best approach. We will try both a Random Forest and Gradient Boosting.\n",
    "\n",
    "Notice we are evaluating training error on the whole dataset, then evaluating cross validation using sklearn's cross validation function. This function trains the model again with a subset of the data then tests with a seperate set. Also, note that we are using mean absolute error as our training criteria, as this is a ordinal classification task, not a true regression task."
   ]
  },
  {
   "cell_type": "code",
   "execution_count": null,
   "metadata": {},
   "outputs": [],
   "source": [
    "model3 = ens.RandomForestRegressor(n_estimators=15, criterion='mae', max_depth=50, max_features='auto')\n",
    "model3.fit(df_x, df_y)\n",
    "\n",
    "train_rmse = np.mean(np.sqrt(mean_squared_error(df_y, model3.predict(df_x))))\n",
    "cv_rmse = np.mean(np.sqrt(-cross_val_score(model3, df_x, df_y, cv=10, scoring='neg_mean_squared_error')))\n",
    "print('Train Error: {}'.format(train_rmse))\n",
    "print('CV Error:    {}'.format(cv_rmse))"
   ]
  },
  {
   "cell_type": "code",
   "execution_count": null,
   "metadata": {},
   "outputs": [],
   "source": [
    "model4 = ens.GradientBoostingRegressor(loss='ls')\n",
    "#interestingly, least squares worked better than least absolute deviance\n",
    "model4.fit(df_x, df_y)\n",
    "\n",
    "train_rmse = np.mean(np.sqrt(mean_squared_error(df_y, model4.predict(df_x))))\n",
    "cv_rmse = np.mean(np.sqrt(-cross_val_score(model4, df_x, df_y, cv=10, scoring='neg_mean_squared_error')))\n",
    "print('Train Error: {}'.format(train_rmse))\n",
    "print('CV Error:    {}'.format(cv_rmse))"
   ]
  },
  {
   "cell_type": "markdown",
   "metadata": {},
   "source": [
    "The results are interesting. Typically, a Random Forest results in lower variance but higher bias, and gradient boosting the opposite. Here, the results are flipped. This is likely due to the lack of parameter tuning.\n",
    "\n",
    "For our problem, in my view, Gradient Boosting makes the most sense. The data set is too small and sparse for random forest to work effectively. In theory, the average of each tree should make a good decision, but this data lends to each tree learning completely different things that will cancel eachother out. Gradient boosting, on the other hand, is a technique that learns more \"slowly\" and will hopefully better identify the complex relationships between the features."
   ]
  },
  {
   "cell_type": "markdown",
   "metadata": {},
   "source": [
    "### Model Tuning <a class=\"anchor\" id=\"model-tuning\"></a>"
   ]
  },
  {
   "cell_type": "code",
   "execution_count": null,
   "metadata": {},
   "outputs": [],
   "source": [
    "final_model = ens.GradientBoostingRegressor(loss='ls', criterion='mae')\n",
    "#interestingly, least squares worked better than least absolute deviance\n",
    "final_model.fit(df_x, df_y)\n",
    "np.sqrt(mean_squared_error(df_y, final_model.predict(df_x)))\n",
    "\n",
    "train_rmse = np.mean(np.sqrt(mean_squared_error(df_y, model4.predict(df_x))))\n",
    "cv_rmse = np.mean(np.sqrt(-cross_val_score(model4, df_x, df_y, cv=10, scoring='neg_mean_squared_error')))\n",
    "print('Train Error: {}'.format(train_rmse))\n",
    "print('CV Error:    {}'.format(cv_rmse))"
   ]
  },
  {
   "cell_type": "markdown",
   "metadata": {},
   "source": [
    "Before using Scikit Learn's built in parameter optimizer, let's use a naive approach to determine the optimal learning rate and max_depth."
   ]
  },
  {
   "cell_type": "code",
   "execution_count": null,
   "metadata": {},
   "outputs": [],
   "source": [
    "max_depth_range = list(range(1, 10))\n",
    "train_errors, cv_errors = [],[]\n",
    "\n",
    "for d in max_depth_range:\n",
    "    final_model = ens.GradientBoostingRegressor(loss='ls', criterion='mae', max_depth = d)\n",
    "    final_model.fit(df_x, df_y)\n",
    "    train_errors.append(np.mean(np.sqrt(mean_squared_error(df_y, model4.predict(df_x)))))\n",
    "    cv_errors.append(np.mean(np.sqrt(-cross_val_score(model4, df_x, df_y, cv=10, scoring='neg_mean_squared_error'))))"
   ]
  },
  {
   "cell_type": "code",
   "execution_count": null,
   "metadata": {},
   "outputs": [],
   "source": [
    "easy_dual_plot(max_depth_range, cv_errors, train_errors, title='Training and CV Error vs Max Depth',\n",
    "               xlabel='Max Depth', ylabel1='CV RMSE', ylabel2='Training RMSE')"
   ]
  },
  {
   "cell_type": "markdown",
   "metadata": {},
   "source": [
    "Though the graph is quite inconsistent, a max-depth of 4-5 generally seems to work best. Now, learning rate."
   ]
  },
  {
   "cell_type": "code",
   "execution_count": null,
   "metadata": {},
   "outputs": [],
   "source": [
    "learning_rate = np.arange(0.05, 0.5, 0.05)\n",
    "train_errors, cv_errors = [],[]\n",
    "\n",
    "for l in learning_rate:\n",
    "    final_model = ens.GradientBoostingRegressor(loss='ls', criterion='mae', max_depth = 5, learning_rate=l)\n",
    "    final_model.fit(df_x, df_y)\n",
    "    train_errors.append(np.mean(np.sqrt(mean_squared_error(df_y, model4.predict(df_x)))))\n",
    "    cv_errors.append(np.mean(np.sqrt(-cross_val_score(model4, df_x, df_y, cv=10, scoring='neg_mean_squared_error'))))"
   ]
  },
  {
   "cell_type": "code",
   "execution_count": null,
   "metadata": {},
   "outputs": [],
   "source": [
    "easy_dual_plot(learning_rate, cv_errors, train_errors, title='Training and CV Error vs Learning Rate',\n",
    "               xlabel='Learning Rate', ylabel1='CV RMSE', ylabel2='Training RMSE')"
   ]
  },
  {
   "cell_type": "markdown",
   "metadata": {},
   "source": [
    "A few runs revealed that learning rate does not influence our CV error. Let's not use Sci-kit Learn's parameter optimizer:"
   ]
  },
  {
   "cell_type": "code",
   "execution_count": null,
   "metadata": {},
   "outputs": [],
   "source": [
    "from sklearn.model_selection import GridSearchCV\n",
    "\n",
    "search = GridSearchCV(estimator=final_model, \n",
    "                      param_grid= {  \n",
    "                         'alpha': [0.6, 0.75, 0.9],\n",
    "                        'loss': ['ls', 'lad'],\n",
    "                         'criterion': ['mse','mae'],\n",
    "                         'max_depth': [4, 5],\n",
    "                         'min_samples_leaf': [1, 2],\n",
    "                         'min_samples_split': [2, 5, 10],\n",
    "                         'n_estimators': [50, 100, 150],\n",
    "                      }).fit(df_x, df_y)"
   ]
  },
  {
   "cell_type": "code",
   "execution_count": null,
   "metadata": {},
   "outputs": [],
   "source": [
    "search.best_estimator_ "
   ]
  },
  {
   "cell_type": "markdown",
   "metadata": {},
   "source": [
    "Now with these parameters, let's fit our model and look at what variables our model determined were important."
   ]
  },
  {
   "cell_type": "code",
   "execution_count": null,
   "metadata": {},
   "outputs": [],
   "source": [
    "final_model = search.best_estimator_ \n",
    "\n",
    "train_rmse = np.mean(np.sqrt(mean_squared_error(df_y, model4.predict(df_x))))\n",
    "cv_rmse = np.mean(np.sqrt(-cross_val_score(model4, df_x, df_y, cv=10, scoring='neg_mean_squared_error')))\n",
    "print('Train Error: {}'.format(train_rmse))\n",
    "print('CV Error:    {}'.format(cv_rmse))"
   ]
  },
  {
   "cell_type": "code",
   "execution_count": null,
   "metadata": {},
   "outputs": [],
   "source": [
    "importances = final_model.feature_importances_[:25]\n",
    "indices = np.argsort(importances)[::-1]\n",
    "\n",
    "# Print the feature ranking\n",
    "print(\"Feature ranking:\")\n",
    "\n",
    "for f in range(25):\n",
    "    print(\"{}. feature {} ({})\".format(f + 1, df_x.columns[indices[f]], importances[indices[f]]))"
   ]
  },
  {
   "cell_type": "markdown",
   "metadata": {},
   "source": [
    "These features are in line with what we expect; however, there is evidence of overfitting. In particular, this model chose Snow Cloak as a good discriminator, even though there is no empirical evidence supporting this.\n",
    "\n",
    "Let's look at pokemon that our model is misclassifying from the training set itself:"
   ]
  },
  {
   "cell_type": "code",
   "execution_count": null,
   "metadata": {},
   "outputs": [],
   "source": [
    "df['prediction'] = final_model.predict(df_x)\n",
    "df['rounded_prediction'] = round(df['prediction'])\n",
    "df['residuals'] = df['tier_num'] - df['prediction']"
   ]
  },
  {
   "cell_type": "code",
   "execution_count": null,
   "metadata": {},
   "outputs": [],
   "source": [
    "misclassified = df.loc[df['rounded_prediction'] != df['tier_num'],\n",
    "       ['tier', 'tier_num', 'prediction', 'rounded_prediction', 'residuals']]\n",
    "\n",
    "misclassified"
   ]
  },
  {
   "cell_type": "code",
   "execution_count": null,
   "metadata": {},
   "outputs": [],
   "source": [
    "fig, ax = plt.subplots(figsize=(10, 3))\n",
    "ax.set(title='Distribution of Residuals', ylabel='Count', xlabel='Residuals')\n",
    "results['Residuals'].hist(ax=ax, bins=15)"
   ]
  },
  {
   "cell_type": "markdown",
   "metadata": {},
   "source": [
    "These misclassifications are quite insightful. The pokemon who have been misclassified by a lot have very specific niches in the metagame. For example, Mimikyu is in OU SOLELY due to it's ability, Disguise. Similarly, Venomoth's only redeeming feature is its access to Quiver Dance.\n",
    "\n",
    "Many pokemon were misclassified by a small margin. Many of these, including Mesprit, Shaymin, and others, actually used to be in the tier that the classifier predicted (but have moved down due to useage)."
   ]
  },
  {
   "cell_type": "markdown",
   "metadata": {},
   "source": [
    "## Summary and Conclusion <a class=\"anchor\" id=\"conclusion\"></a>\n",
    "\n",
    "In this analysis, we deep-dived into various attributes of pokemon and how they contribute to a pokemon's viability in the competitive metagame. \n",
    "\n",
    "We found that stats were a very strong indicator, as expected, but cannot be used for classification alone. We discovered that most moves and abilities were learned by very few pokemon. This made using interesting moves and abilities for classification quite difficult, as there were not enough training examples for the model to learn about the feature.\n",
    "\n",
    "Other indicators were also found to be useful but inconclusive. Pokemon who are not fully evolved tend to be in lower tiers, while alternate forms and mega evolutions tend to be in higher tiers, as expected. Various types were found to be more common in upper tiers and others in lower tiers.\n",
    "\n",
    "The most interesting results came from analyzing pokemon outside of two standard deviations of the BST average for their tier. We engineered several useful features, including a bad ability indicator, stat increasing move indicator, and stat increasing ability indicator. \n",
    "\n",
    "We did some further feature consolidation by combining like moves in our model selection. We also used a Lasso to identify what features were useful and which were not. Ultimately, we decided to drop all moves we did not consolidate from our featureset. After some model selection, we chose a Gradient Boosting Regression Tree, due to it's ability to learn complex relationships to reduce the bias in our model.\n",
    "\n",
    "In the end, this model performed mediocrely, but this was expected. Competitive pokemon tiers are based on human behaviour, and pokemon tiers change all the time (in fact, halfway through this analysis, Claydol was promoted to NU!). We found that Pokemon our model severely misclassified often carved their niche in the tiers they are in. These complex combinations of abilities, moves, stats, and typing were difficult for our model to learn about, due to the limited volume and type of data. Some of the Pokemon our model slightly misclassified actually used to be in the tiers our model predicted!\n",
    "\n",
    "Going forward, it would be useful to analyze move-by-move battle data to gain more insight about how players actually use these Pokemon. It would be an interesting task to build a model that is able to understand the relationships between pokemon on a team to build a team that has synergy. A step beyond that would be to build a model to actually battle with its team."
   ]
  }
 ],
 "metadata": {
  "kernelspec": {
   "display_name": "Python 3 (ipykernel)",
   "language": "python",
   "name": "python3"
  },
  "language_info": {
   "codemirror_mode": {
    "name": "ipython",
    "version": 3
   },
   "file_extension": ".py",
   "mimetype": "text/x-python",
   "name": "python",
   "nbconvert_exporter": "python",
   "pygments_lexer": "ipython3",
   "version": "3.8.10"
  }
 },
 "nbformat": 4,
 "nbformat_minor": 4
}
