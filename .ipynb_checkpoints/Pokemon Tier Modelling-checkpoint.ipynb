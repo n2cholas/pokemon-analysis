{
 "cells": [
  {
   "cell_type": "markdown",
   "metadata": {},
   "source": [
    "## Pokemon Tier Modelling"
   ]
  },
  {
   "cell_type": "markdown",
   "metadata": {},
   "source": [
    "Tiers are a way to classify pokemon based on how useful they are in battle. When competing in a particular tier, you can use any pokemon from that tier or below. Pokemon can change tiers based on their usage. For example, if too many players use a particular pokemon in a tier, that pokemon can be promoted to a higher tier. This is done to maintain balance and variety within each tier.\n",
    "\n",
    "Typically, tier evaluations for pokemon are ongoing. However, there is always a big re-evaluation each generation, as new pokemon, items, and mechanics are introduced. Here, we will model pokemon changing tiers as a discrete time markov chain. Since the future tier of a pokemon only depends on its current tier (since that is where it is evaluated), the markov property holds. Although there are many external factors influencing a pokemon's tier, we analyze the transitions irrespective of these factors."
   ]
  },
  {
   "cell_type": "code",
   "execution_count": 1,
   "metadata": {},
   "outputs": [],
   "source": [
    "import numpy as np\n",
    "import pandas as pd\n",
    "import matplotlib.pyplot as plt\n",
    "import seaborn as sns\n",
    "\n",
    "%matplotlib inline"
   ]
  },
  {
   "cell_type": "markdown",
   "metadata": {},
   "source": [
    "## Data Importing and Cleaning\n",
    "\n",
    "We have extracted CSVs of pokemon data for each of the 7 generations. "
   ]
  },
  {
   "cell_type": "code",
   "execution_count": 2,
   "metadata": {},
   "outputs": [],
   "source": [
    "csv_df = [pd.read_csv(f'tier data/gen{i}.csv', delimiter=';') for i in range(1, 8)]"
   ]
  },
  {
   "cell_type": "code",
   "execution_count": 3,
   "metadata": {},
   "outputs": [
    {
     "data": {
      "text/html": [
       "<div>\n",
       "<style scoped>\n",
       "    .dataframe tbody tr th:only-of-type {\n",
       "        vertical-align: middle;\n",
       "    }\n",
       "\n",
       "    .dataframe tbody tr th {\n",
       "        vertical-align: top;\n",
       "    }\n",
       "\n",
       "    .dataframe thead th {\n",
       "        text-align: right;\n",
       "    }\n",
       "</style>\n",
       "<table border=\"1\" class=\"dataframe\">\n",
       "  <thead>\n",
       "    <tr style=\"text-align: right;\">\n",
       "      <th></th>\n",
       "      <th>Name</th>\n",
       "      <th>Types</th>\n",
       "      <th>Abilities</th>\n",
       "      <th>Tier</th>\n",
       "      <th>HP</th>\n",
       "      <th>Attack</th>\n",
       "      <th>Defense</th>\n",
       "      <th>Special Attack</th>\n",
       "      <th>Special Defense</th>\n",
       "      <th>Speed</th>\n",
       "      <th>Next Evolution(s)</th>\n",
       "    </tr>\n",
       "  </thead>\n",
       "  <tbody>\n",
       "    <tr>\n",
       "      <th>6</th>\n",
       "      <td>Beedrill</td>\n",
       "      <td>['Bug', 'Poison']</td>\n",
       "      <td>[]</td>\n",
       "      <td>UU</td>\n",
       "      <td>65</td>\n",
       "      <td>80</td>\n",
       "      <td>40</td>\n",
       "      <td>45</td>\n",
       "      <td>45</td>\n",
       "      <td>75</td>\n",
       "      <td>[]</td>\n",
       "    </tr>\n",
       "  </tbody>\n",
       "</table>\n",
       "</div>"
      ],
      "text/plain": [
       "       Name              Types Abilities Tier  HP  Attack  Defense  \\\n",
       "6  Beedrill  ['Bug', 'Poison']        []   UU  65      80       40   \n",
       "\n",
       "   Special Attack  Special Defense  Speed Next Evolution(s)  \n",
       "6              45               45     75                []  "
      ]
     },
     "execution_count": 3,
     "metadata": {},
     "output_type": "execute_result"
    }
   ],
   "source": [
    "csv_df[0].sample()"
   ]
  },
  {
   "cell_type": "markdown",
   "metadata": {},
   "source": [
    "As of generation 7, there is a new Untiered tier, which consists of pokemon which should be in PU (the lowest tier) but see extremely low usage. For this analysis we will put them in PU."
   ]
  },
  {
   "cell_type": "code",
   "execution_count": 4,
   "metadata": {},
   "outputs": [],
   "source": [
    "csv_df[6].loc[csv_df[6].Tier == 'Untiered', 'Tier'] = 'PU'"
   ]
  },
  {
   "cell_type": "markdown",
   "metadata": {},
   "source": [
    "We will consider only the primary playable tiers. This means all pokemon in \"borderline\" tiers will be promoted to the tier above, and we will not consider tiers like LC (little cup) or AG (anything goes)."
   ]
  },
  {
   "cell_type": "code",
   "execution_count": 5,
   "metadata": {},
   "outputs": [
    {
     "name": "stdout",
     "output_type": "stream",
     "text": [
      "84\n",
      "147\n",
      "259\n",
      "309\n",
      "402\n",
      "487\n",
      "553\n"
     ]
    }
   ],
   "source": [
    "for i, df in enumerate(csv_df):\n",
    "    df.loc[df.Tier == 'OUBL','Tier'] = 'Uber'\n",
    "    df.loc[df.Tier == 'UUBL','Tier'] = 'OU'\n",
    "    df.loc[df.Tier == 'RUBL','Tier'] = 'UU'\n",
    "    df.loc[df.Tier == 'NUBL','Tier'] = 'RU'\n",
    "    df.loc[df.Tier == 'PUBL','Tier'] = 'NU'\n",
    "    csv_df[i] = df[df['Tier'].isin(['Uber', 'OU', 'UU', 'NU', 'RU', 'PU'])]\n",
    "    print(csv_df[i].shape[0])"
   ]
  },
  {
   "cell_type": "code",
   "execution_count": 6,
   "metadata": {},
   "outputs": [],
   "source": [
    "df = csv_df[-1][['Name']].set_index('Name')\n",
    "csv_df = [df.set_index('Name') for df in csv_df]\n",
    "for gen in range(1, 8):\n",
    "    df[f'gen{gen}'] = df.index.map(lambda x: csv_df[gen-1].loc[x, 'Tier'] \n",
    "                        if x in csv_df[gen-1].index else None)"
   ]
  },
  {
   "cell_type": "markdown",
   "metadata": {},
   "source": [
    " Our analysis will be heavily affected by the missing tiers in the older generations. To alleviate this, let's exclude generation 1 from our analysis, and combine RU, NU and PU into NU. "
   ]
  },
  {
   "cell_type": "code",
   "execution_count": 7,
   "metadata": {},
   "outputs": [],
   "source": [
    "del df['gen1']"
   ]
  },
  {
   "cell_type": "code",
   "execution_count": 8,
   "metadata": {},
   "outputs": [],
   "source": [
    "low_tiers = {'NU', 'PU', 'RU'}\n",
    "df = df.applymap(lambda x: 'NU' if x in low_tiers else x)"
   ]
  },
  {
   "cell_type": "code",
   "execution_count": 9,
   "metadata": {},
   "outputs": [],
   "source": [
    "tiers = ['Uber', 'OU', 'UU', 'NU'] #'RU', 'PU'\n",
    "tier_mapping = {tier:num for num, tier in enumerate(tiers)}\n",
    "def tier_num(tier):\n",
    "    return tier_mapping[tier]"
   ]
  },
  {
   "cell_type": "markdown",
   "metadata": {},
   "source": [
    "## Analysis"
   ]
  },
  {
   "cell_type": "markdown",
   "metadata": {},
   "source": [
    "Let's look at the distribution of tiers."
   ]
  },
  {
   "cell_type": "code",
   "execution_count": 10,
   "metadata": {},
   "outputs": [
    {
     "data": {
      "text/plain": [
       "Text(0.5,1,'Distribution of Pokemon Among Tiers by Generation')"
      ]
     },
     "execution_count": 10,
     "metadata": {},
     "output_type": "execute_result"
    },
    {
     "data": {
      "image/png": "[encoded data removed]",
      "text/plain": [
       "<Figure size 432x288 with 2 Axes>"
      ]
     },
     "metadata": {},
     "output_type": "display_data"
    }
   ],
   "source": [
    "tier_counts = df.apply(pd.Series.value_counts).fillna(0).astype(np.int32)\n",
    "tier_counts = tier_counts / tier_counts.sum()\n",
    "sns.heatmap(tier_counts.loc[tiers], cmap=\"BuPu\").set_title('Distribution of Pokemon Among Tiers by Generation')"
   ]
  },
  {
   "cell_type": "markdown",
   "metadata": {},
   "source": [
    "In generations 2 and 3 (which only have the 4 tiers listed), there is an even distribution of pokemon in the 3 lower tiers. The higher generations have most of the pokemon in the lower tiers for two reasons. First, we combined the lower tiers in the higher generation. Second, by design, the lowest tier has the most pokemon for newer generations."
   ]
  },
  {
   "cell_type": "markdown",
   "metadata": {},
   "source": [
    "Let's create an Alluvial diagram visualizing how pokemon switch between various tiers."
   ]
  },
  {
   "cell_type": "code",
   "execution_count": 56,
   "metadata": {},
   "outputs": [],
   "source": [
    "from floweaver import *\n",
    "from ipysankeywidget import SankeyWidget\n",
    "\n",
    "# Set the default size to fit the documentation better.\n",
    "size = dict(width=570, height=300)"
   ]
  },
  {
   "cell_type": "code",
   "execution_count": 47,
   "metadata": {},
   "outputs": [],
   "source": [
    "flows = df.copy()\n",
    "flows['ind'] = 1"
   ]
  },
  {
   "cell_type": "code",
   "execution_count": 50,
   "metadata": {},
   "outputs": [],
   "source": [
    "flows = flows.groupby([f'gen{i}' for i in [6, 7]]).agg('sum').reset_index()"
   ]
  },
  {
   "cell_type": "code",
   "execution_count": 51,
   "metadata": {},
   "outputs": [],
   "source": [
    "#flows.columns= [f'gen{i}' for i in range(2, 6)] + ['source', 'target', 'value']"
   ]
  },
  {
   "cell_type": "code",
   "execution_count": 53,
   "metadata": {},
   "outputs": [],
   "source": [
    "flows.columns = ['source', 'target', 'value']"
   ]
  },
  {
   "cell_type": "code",
   "execution_count": 60,
   "metadata": {},
   "outputs": [
    {
     "data": {
      "application/vnd.jupyter.widget-view+json": {
       "model_id": "cced1f98338747a8bbc99ab16110409e",
       "version_major": 2,
       "version_minor": 0
      },
      "text/plain": [
       "SankeyWidget(links=[{'source': 'NU', 'target': 'NU', 'value': 268}, {'source': 'NU', 'target': 'OU', 'value': …"
      ]
     },
     "metadata": {},
     "output_type": "display_data"
    }
   ],
   "source": [
    "SankeyWidget(links=flows.to_dict('records'))"
   ]
  }
 ],
 "metadata": {
  "kernelspec": {
   "display_name": "Python 3",
   "language": "python",
   "name": "python3"
  },
  "language_info": {
   "codemirror_mode": {
    "name": "ipython",
    "version": 3
   },
   "file_extension": ".py",
   "mimetype": "text/x-python",
   "name": "python",
   "nbconvert_exporter": "python",
   "pygments_lexer": "ipython3",
   "version": "3.6.5"
  }
 },
 "nbformat": 4,
 "nbformat_minor": 2
}
