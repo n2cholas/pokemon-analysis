{
 "cells": [
  {
   "cell_type": "markdown",
   "metadata": {},
   "source": [
    "# Competitive Pokemon Analysis"
   ]
  },
  {
   "cell_type": "markdown",
   "metadata": {},
   "source": [
    "While in the traditional pokemon games, players raise Pokemon to complete an adventure, competitive Pokemon is a game where players strategically construct teams of pokemon with moves, natures, items, etc of their choosing to beaet other live players.  Not all Pokemon are equal for this purpose, so based on the usage statistics of the pokemon in competitive play, they are split into various tiers. A player may use a Pokemon to compete in a particular tier if the pokemon is in that tier or below. Historically, usage of various pokemon has changed overtime with the introduction of new pokemon, moves, abilities, and mechanics. So, Pokemon are constantly shifted between tiers to maintain balance.\n",
    "\n",
    "In this analysis, we will attempt to classify pokemon into the competitive 6v6 tiers based on the properties of the Pokemon themselves."
   ]
  },
  {
   "cell_type": "markdown",
   "metadata": {},
   "source": [
    "## Data Processing"
   ]
  },
  {
   "cell_type": "code",
   "execution_count": 2,
   "metadata": {},
   "outputs": [],
   "source": [
    "import pandas as pd\n",
    "import numpy as np\n",
    "import matplotlib.pyplot as plt\n",
    "import seaborn as sns\n",
    "\n",
    "%matplotlib inline"
   ]
  },
  {
   "cell_type": "code",
   "execution_count": 3,
   "metadata": {},
   "outputs": [
    {
     "name": "stdout",
     "output_type": "stream",
     "text": [
      "Number of pokemon:  918\n"
     ]
    },
    {
     "data": {
      "text/html": [
       "<div>\n",
       "<style scoped>\n",
       "    .dataframe tbody tr th:only-of-type {\n",
       "        vertical-align: middle;\n",
       "    }\n",
       "\n",
       "    .dataframe tbody tr th {\n",
       "        vertical-align: top;\n",
       "    }\n",
       "\n",
       "    .dataframe thead th {\n",
       "        text-align: right;\n",
       "    }\n",
       "</style>\n",
       "<table border=\"1\" class=\"dataframe\">\n",
       "  <thead>\n",
       "    <tr style=\"text-align: right;\">\n",
       "      <th></th>\n",
       "      <th>Name</th>\n",
       "      <th>Types</th>\n",
       "      <th>Abilities</th>\n",
       "      <th>Tier</th>\n",
       "      <th>HP</th>\n",
       "      <th>Attack</th>\n",
       "      <th>Defense</th>\n",
       "      <th>Special Attack</th>\n",
       "      <th>Special Defense</th>\n",
       "      <th>Speed</th>\n",
       "      <th>Next Evolution(s)</th>\n",
       "      <th>Moves</th>\n",
       "    </tr>\n",
       "  </thead>\n",
       "  <tbody>\n",
       "    <tr>\n",
       "      <th>381</th>\n",
       "      <td>Kartana</td>\n",
       "      <td>['Grass', 'Steel']</td>\n",
       "      <td>['Beast Boost']</td>\n",
       "      <td>OU</td>\n",
       "      <td>59</td>\n",
       "      <td>181</td>\n",
       "      <td>131</td>\n",
       "      <td>59</td>\n",
       "      <td>31</td>\n",
       "      <td>109</td>\n",
       "      <td>[]</td>\n",
       "      <td>['Sacred Sword', 'Defog', 'Vacuum Wave', 'Air ...</td>\n",
       "    </tr>\n",
       "  </tbody>\n",
       "</table>\n",
       "</div>"
      ],
      "text/plain": [
       "        Name               Types        Abilities Tier  HP  Attack  Defense  \\\n",
       "381  Kartana  ['Grass', 'Steel']  ['Beast Boost']   OU  59     181      131   \n",
       "\n",
       "     Special Attack  Special Defense  Speed Next Evolution(s)  \\\n",
       "381              59               31    109                []   \n",
       "\n",
       "                                                 Moves  \n",
       "381  ['Sacred Sword', 'Defog', 'Vacuum Wave', 'Air ...  "
      ]
     },
     "execution_count": 3,
     "metadata": {},
     "output_type": "execute_result"
    }
   ],
   "source": [
    "df = pd.read_csv('pokemon-data.csv', delimiter=';')\n",
    "mdf = pd.read_csv('move-data.csv', delimiter=';')\n",
    "\n",
    "print('Number of pokemon: ', len(df))\n",
    "df.sample()"
   ]
  },
  {
   "cell_type": "markdown",
   "metadata": {},
   "source": [
    "The base stat total is a common metric players use to assess a Pokemon's overall strength, so let's create a column for this."
   ]
  },
  {
   "cell_type": "code",
   "execution_count": 4,
   "metadata": {
    "collapsed": true
   },
   "outputs": [],
   "source": [
    "df.columns = ['name', 'types', 'abilities', 'tier', 'hp', 'atk', 'def', 'spa', 'spd', 'spe', 'next_evo','moves']\n",
    "df['bst'] = df['hp'] + df['atk'] + df['def'] + df['spa'] + df['spd'] + df['spe']\n",
    "df = df[['name', 'types', 'abilities', 'tier', 'hp', 'atk', 'def', 'spa', 'spd', 'spe', 'bst', 'next_evo','moves']]\n",
    "df.set_index('name', inplace=True)"
   ]
  },
  {
   "cell_type": "markdown",
   "metadata": {},
   "source": [
    "The next evolution information is not immediately useful; however, we can determine how far a pokemon is in it's evolutionary chain. Notice that a pokemon can have one, two, or three evolutions in it's chain, along with the possibility of a mega evolution. A pokemon that is in its final form that after one evolution is not necessarily weaker or stronger than another after two evolutions. For each pokemon, let's store the length of the evolutionary chain (excluding mega evolutions) and it's stage in the chain. \n",
    "\n",
    "A mega evolution will be the stage of the pokemon + 1. For example, Blaziken would have a chain length of 3 and it would be in stage 3, while Mega Blaziken would have a chain length of 3 and it would be in stage 4. \n",
    "\n",
    "However, some pokemon have alternate forms listed as evolutions. Consider:"
   ]
  },
  {
   "cell_type": "code",
   "execution_count": 5,
   "metadata": {},
   "outputs": [
    {
     "data": {
      "text/html": [
       "<div>\n",
       "<style scoped>\n",
       "    .dataframe tbody tr th:only-of-type {\n",
       "        vertical-align: middle;\n",
       "    }\n",
       "\n",
       "    .dataframe tbody tr th {\n",
       "        vertical-align: top;\n",
       "    }\n",
       "\n",
       "    .dataframe thead th {\n",
       "        text-align: right;\n",
       "    }\n",
       "</style>\n",
       "<table border=\"1\" class=\"dataframe\">\n",
       "  <thead>\n",
       "    <tr style=\"text-align: right;\">\n",
       "      <th></th>\n",
       "      <th>types</th>\n",
       "      <th>abilities</th>\n",
       "      <th>tier</th>\n",
       "      <th>hp</th>\n",
       "      <th>atk</th>\n",
       "      <th>def</th>\n",
       "      <th>spa</th>\n",
       "      <th>spd</th>\n",
       "      <th>spe</th>\n",
       "      <th>bst</th>\n",
       "      <th>next_evo</th>\n",
       "      <th>moves</th>\n",
       "    </tr>\n",
       "    <tr>\n",
       "      <th>name</th>\n",
       "      <th></th>\n",
       "      <th></th>\n",
       "      <th></th>\n",
       "      <th></th>\n",
       "      <th></th>\n",
       "      <th></th>\n",
       "      <th></th>\n",
       "      <th></th>\n",
       "      <th></th>\n",
       "      <th></th>\n",
       "      <th></th>\n",
       "      <th></th>\n",
       "    </tr>\n",
       "  </thead>\n",
       "  <tbody>\n",
       "    <tr>\n",
       "      <th>Giratina</th>\n",
       "      <td>['Dragon', 'Ghost']</td>\n",
       "      <td>['Pressure', 'Telepathy']</td>\n",
       "      <td>Uber</td>\n",
       "      <td>150</td>\n",
       "      <td>100</td>\n",
       "      <td>120</td>\n",
       "      <td>100</td>\n",
       "      <td>120</td>\n",
       "      <td>90</td>\n",
       "      <td>680</td>\n",
       "      <td>['Giratina-Origin']</td>\n",
       "      <td>['Dragon Breath', 'Scary Face', 'Ominous Wind'...</td>\n",
       "    </tr>\n",
       "  </tbody>\n",
       "</table>\n",
       "</div>"
      ],
      "text/plain": [
       "                        types                  abilities  tier   hp  atk  def  \\\n",
       "name                                                                            \n",
       "Giratina  ['Dragon', 'Ghost']  ['Pressure', 'Telepathy']  Uber  150  100  120   \n",
       "\n",
       "          spa  spd  spe  bst             next_evo  \\\n",
       "name                                                \n",
       "Giratina  100  120   90  680  ['Giratina-Origin']   \n",
       "\n",
       "                                                      moves  \n",
       "name                                                         \n",
       "Giratina  ['Dragon Breath', 'Scary Face', 'Ominous Wind'...  "
      ]
     },
     "execution_count": 5,
     "metadata": {},
     "output_type": "execute_result"
    }
   ],
   "source": [
    "df[df.index == 'Giratina']"
   ]
  },
  {
   "cell_type": "markdown",
   "metadata": {},
   "source": [
    "We shall treat alternate forms that have a BST that is strictly greater than its original as a mega evolution. Otherwise, it will be treated as equivalent to the original form."
   ]
  },
  {
   "cell_type": "code",
   "execution_count": 6,
   "metadata": {
    "collapsed": true
   },
   "outputs": [],
   "source": [
    "def stage_in_evo(n):\n",
    "    # returns number of evolutions before it\n",
    "    #print(df[df['name'] == n]['name'])\n",
    "    bool_arr = df.apply(lambda x: n in eval(x['next_evo']) and (n+'-') not in x['next_evo'], axis=1) #gets index of previous evolution\n",
    "    if '-Mega' in n: #mega evolutions\n",
    "        return stage_in_evo(n.split('-')[0]) + 1 \n",
    "    elif not any(bool_arr):\n",
    "        return 1 # if there's nothing before it, it's the first\n",
    "    else:\n",
    "        return 1 + stage_in_evo(df.index[bool_arr][0])\n",
    "\n",
    "def num_evos(n):\n",
    "    if n not in df.index: #checks to ensure valid pokemon\n",
    "        return n\n",
    "    \n",
    "    next_evos = eval(df.loc[n, 'next_evo'])\n",
    "    if len(next_evos) > 0: #existence of next_evo\n",
    "        if n in next_evos[0]: # if \"next evo\" is an alternate form\n",
    "            return df.loc[n, 'stage'] #accounting for alternate forms\n",
    "        else:\n",
    "            return num_evos(next_evos[0])\n",
    "    elif '-Mega' in n or n.split('-')[0] in df.index: \n",
    "        #this is checking if there is a pokemon with the same root name (e.g. Shaymin vs Shaymin-Sky)\n",
    "        return df.loc[n.split('-')[0], 'stage']\n",
    "    else:\n",
    "        return df.loc[n, 'stage']"
   ]
  },
  {
   "cell_type": "code",
   "execution_count": 7,
   "metadata": {
    "collapsed": true
   },
   "outputs": [],
   "source": [
    "df['stage'] = df.apply(lambda x: stage_in_evo(x.name), axis=1)"
   ]
  },
  {
   "cell_type": "code",
   "execution_count": 8,
   "metadata": {
    "collapsed": true
   },
   "outputs": [],
   "source": [
    "df['num_evos'] = df.apply(lambda x: num_evos(x.name), axis=1)"
   ]
  },
  {
   "cell_type": "code",
   "execution_count": 9,
   "metadata": {},
   "outputs": [
    {
     "data": {
      "text/html": [
       "<div>\n",
       "<style scoped>\n",
       "    .dataframe tbody tr th:only-of-type {\n",
       "        vertical-align: middle;\n",
       "    }\n",
       "\n",
       "    .dataframe tbody tr th {\n",
       "        vertical-align: top;\n",
       "    }\n",
       "\n",
       "    .dataframe thead th {\n",
       "        text-align: right;\n",
       "    }\n",
       "</style>\n",
       "<table border=\"1\" class=\"dataframe\">\n",
       "  <thead>\n",
       "    <tr style=\"text-align: right;\">\n",
       "      <th></th>\n",
       "      <th>types</th>\n",
       "      <th>abilities</th>\n",
       "      <th>tier</th>\n",
       "      <th>hp</th>\n",
       "      <th>atk</th>\n",
       "      <th>def</th>\n",
       "      <th>spa</th>\n",
       "      <th>spd</th>\n",
       "      <th>spe</th>\n",
       "      <th>bst</th>\n",
       "      <th>next_evo</th>\n",
       "      <th>moves</th>\n",
       "      <th>stage</th>\n",
       "      <th>num_evos</th>\n",
       "    </tr>\n",
       "    <tr>\n",
       "      <th>name</th>\n",
       "      <th></th>\n",
       "      <th></th>\n",
       "      <th></th>\n",
       "      <th></th>\n",
       "      <th></th>\n",
       "      <th></th>\n",
       "      <th></th>\n",
       "      <th></th>\n",
       "      <th></th>\n",
       "      <th></th>\n",
       "      <th></th>\n",
       "      <th></th>\n",
       "      <th></th>\n",
       "      <th></th>\n",
       "    </tr>\n",
       "  </thead>\n",
       "  <tbody>\n",
       "    <tr>\n",
       "      <th>Blaziken-Mega</th>\n",
       "      <td>['Fire', 'Fighting']</td>\n",
       "      <td>['Speed Boost']</td>\n",
       "      <td>Uber</td>\n",
       "      <td>80</td>\n",
       "      <td>160</td>\n",
       "      <td>80</td>\n",
       "      <td>130</td>\n",
       "      <td>80</td>\n",
       "      <td>100</td>\n",
       "      <td>630</td>\n",
       "      <td>[]</td>\n",
       "      <td>['Flare Blitz', 'Fire Punch', 'High Jump Kick'...</td>\n",
       "      <td>4</td>\n",
       "      <td>3</td>\n",
       "    </tr>\n",
       "    <tr>\n",
       "      <th>Diglett-Alola</th>\n",
       "      <td>['Ground', 'Steel']</td>\n",
       "      <td>['Sand Force', 'Sand Veil', 'Tangling Hair']</td>\n",
       "      <td>LC</td>\n",
       "      <td>10</td>\n",
       "      <td>55</td>\n",
       "      <td>30</td>\n",
       "      <td>35</td>\n",
       "      <td>45</td>\n",
       "      <td>90</td>\n",
       "      <td>265</td>\n",
       "      <td>['Dugtrio-Alola']</td>\n",
       "      <td>['Sand Attack', 'Metal Claw', 'Growl', 'Astoni...</td>\n",
       "      <td>1</td>\n",
       "      <td>2</td>\n",
       "    </tr>\n",
       "    <tr>\n",
       "      <th>Landorus</th>\n",
       "      <td>['Flying', 'Ground']</td>\n",
       "      <td>['Sand Force', 'Sheer Force']</td>\n",
       "      <td>Uber</td>\n",
       "      <td>89</td>\n",
       "      <td>125</td>\n",
       "      <td>90</td>\n",
       "      <td>115</td>\n",
       "      <td>80</td>\n",
       "      <td>101</td>\n",
       "      <td>600</td>\n",
       "      <td>['Landorus-Therian']</td>\n",
       "      <td>['Outrage', 'Hammer Arm', 'Fissure', 'Block', ...</td>\n",
       "      <td>1</td>\n",
       "      <td>1</td>\n",
       "    </tr>\n",
       "    <tr>\n",
       "      <th>Landorus-Therian</th>\n",
       "      <td>['Flying', 'Ground']</td>\n",
       "      <td>['Intimidate']</td>\n",
       "      <td>OU</td>\n",
       "      <td>89</td>\n",
       "      <td>145</td>\n",
       "      <td>90</td>\n",
       "      <td>105</td>\n",
       "      <td>80</td>\n",
       "      <td>91</td>\n",
       "      <td>600</td>\n",
       "      <td>[]</td>\n",
       "      <td>['Outrage', 'Hammer Arm', 'Fissure', 'Block', ...</td>\n",
       "      <td>2</td>\n",
       "      <td>1</td>\n",
       "    </tr>\n",
       "    <tr>\n",
       "      <th>Monferno</th>\n",
       "      <td>['Fighting', 'Fire']</td>\n",
       "      <td>['Blaze', 'Iron Fist']</td>\n",
       "      <td>NaN</td>\n",
       "      <td>64</td>\n",
       "      <td>78</td>\n",
       "      <td>52</td>\n",
       "      <td>78</td>\n",
       "      <td>52</td>\n",
       "      <td>81</td>\n",
       "      <td>405</td>\n",
       "      <td>['Infernape']</td>\n",
       "      <td>['Scratch', 'Leer', 'Mach Punch', 'Mach Punch'...</td>\n",
       "      <td>2</td>\n",
       "      <td>3</td>\n",
       "    </tr>\n",
       "  </tbody>\n",
       "</table>\n",
       "</div>"
      ],
      "text/plain": [
       "                                 types  \\\n",
       "name                                     \n",
       "Blaziken-Mega     ['Fire', 'Fighting']   \n",
       "Diglett-Alola      ['Ground', 'Steel']   \n",
       "Landorus          ['Flying', 'Ground']   \n",
       "Landorus-Therian  ['Flying', 'Ground']   \n",
       "Monferno          ['Fighting', 'Fire']   \n",
       "\n",
       "                                                     abilities  tier  hp  atk  \\\n",
       "name                                                                            \n",
       "Blaziken-Mega                                  ['Speed Boost']  Uber  80  160   \n",
       "Diglett-Alola     ['Sand Force', 'Sand Veil', 'Tangling Hair']    LC  10   55   \n",
       "Landorus                         ['Sand Force', 'Sheer Force']  Uber  89  125   \n",
       "Landorus-Therian                                ['Intimidate']    OU  89  145   \n",
       "Monferno                                ['Blaze', 'Iron Fist']   NaN  64   78   \n",
       "\n",
       "                  def  spa  spd  spe  bst              next_evo  \\\n",
       "name                                                              \n",
       "Blaziken-Mega      80  130   80  100  630                    []   \n",
       "Diglett-Alola      30   35   45   90  265     ['Dugtrio-Alola']   \n",
       "Landorus           90  115   80  101  600  ['Landorus-Therian']   \n",
       "Landorus-Therian   90  105   80   91  600                    []   \n",
       "Monferno           52   78   52   81  405         ['Infernape']   \n",
       "\n",
       "                                                              moves  stage  \\\n",
       "name                                                                         \n",
       "Blaziken-Mega     ['Flare Blitz', 'Fire Punch', 'High Jump Kick'...      4   \n",
       "Diglett-Alola     ['Sand Attack', 'Metal Claw', 'Growl', 'Astoni...      1   \n",
       "Landorus          ['Outrage', 'Hammer Arm', 'Fissure', 'Block', ...      1   \n",
       "Landorus-Therian  ['Outrage', 'Hammer Arm', 'Fissure', 'Block', ...      2   \n",
       "Monferno          ['Scratch', 'Leer', 'Mach Punch', 'Mach Punch'...      2   \n",
       "\n",
       "                  num_evos  \n",
       "name                        \n",
       "Blaziken-Mega            3  \n",
       "Diglett-Alola            2  \n",
       "Landorus                 1  \n",
       "Landorus-Therian         1  \n",
       "Monferno                 3  "
      ]
     },
     "execution_count": 9,
     "metadata": {},
     "output_type": "execute_result"
    }
   ],
   "source": [
    "df[(df.index == 'Landorus-Therian') | (df.index == 'Landorus') | (df.index == 'Monferno') | (df.index == 'Blaziken-Mega') | (df.index == 'Diglett-Alola')] #test"
   ]
  },
  {
   "cell_type": "markdown",
   "metadata": {},
   "source": [
    "As of generation 7, there are 8 playable tiers. From strongest to weakest: Anything Goes (AG), Uber, Overused (OU), Underused (UU), Rarelyused (RU), Neverused (NU), Partiallyused (PU) and Little Cup (LC). There are also unplayable tiers called borderline tiers, suffixed by BL. These serve as banlists for their respective tiers (so these pokemon can only be used in higher tiers). For the purpose of this analysis, we will classify BL pokemon as the tier above.\n",
    "\n",
    "We will not consider the Little Cup (LC) format, as they are not defined by usage statistics (it involves pokemon that are not evolved but are capable of evolution and can be obtained in the traditional games at level 5). We will also discard the AG tier, as it was created solely for Mega Rayquaza. Both Pokemon that belong to no tier because they are uncompetitive and pokemon in the Limbo tier becuase they are unreleased will not be considererd.\n",
    "\n",
    "Let's make these changes. Also, we shall number the tiers to make plotting easier (lower number => better tier)"
   ]
  },
  {
   "cell_type": "code",
   "execution_count": 10,
   "metadata": {
    "collapsed": true
   },
   "outputs": [],
   "source": [
    "df.loc[df.tier == 'OUBL','tier'] = 'Uber'\n",
    "df.loc[df.tier == 'UUBL','tier'] = 'OU'\n",
    "df.loc[df.tier == 'RUBL','tier'] = 'UU'\n",
    "df.loc[df.tier == 'NUBL','tier'] = 'RU'\n",
    "df.loc[df.tier == 'PUBL','tier'] = 'NU'\n",
    "df = df[df['tier'].isin(['Uber', 'OU', 'UU', 'NU', 'RU', 'PU'])]"
   ]
  },
  {
   "cell_type": "code",
   "execution_count": 11,
   "metadata": {
    "collapsed": true
   },
   "outputs": [],
   "source": [
    "mapping = {'Uber': 0, 'OU': 1, 'UU': 2, 'RU': 3, 'NU': 4, 'PU': 5}\n",
    "df['tier_num'] = df.apply(lambda x: mapping[x['tier']], axis=1)"
   ]
  },
  {
   "cell_type": "markdown",
   "metadata": {},
   "source": [
    "## Exploratory Data Analysis\n",
    "\n",
    "Let's explore some of the relationships in this data. First, the distribution of the classes:"
   ]
  },
  {
   "cell_type": "code",
   "execution_count": 12,
   "metadata": {},
   "outputs": [
    {
     "name": "stdout",
     "output_type": "stream",
     "text": [
      "Total number of Pokemon:  552\n"
     ]
    },
    {
     "data": {
      "image/png": "[encoded data removed]",
      "text/plain": [
       "<Figure size 432x288 with 1 Axes>"
      ]
     },
     "metadata": {},
     "output_type": "display_data"
    }
   ],
   "source": [
    "ax = df.tier.value_counts().plot(kind='pie', autopct='%1.1f%%')\n",
    "print('Total number of Pokemon: ', len(df))"
   ]
  },
  {
   "cell_type": "markdown",
   "metadata": {},
   "source": [
    "All the upper tiers are similar in size by design, but the PU tier is a dump of all the least used pokemon. We must account for this later. \n",
    "\n",
    "Let's examine how the the average stats compare for each tier:"
   ]
  },
  {
   "cell_type": "code",
   "execution_count": 17,
   "metadata": {},
   "outputs": [
    {
     "data": {
      "image/png": "[encoded data removed]",
      "text/plain": [
       "<Figure size 1800x576 with 2 Axes>"
      ]
     },
     "metadata": {},
     "output_type": "display_data"
    }
   ],
   "source": [
    "temp = df[['tier', 'tier_num', 'hp', 'atk', 'def', 'spa', 'spd', 'spe', 'bst']].groupby(['tier', 'tier_num']).agg(np.mean)\n",
    "temp = temp.reset_index()\n",
    "temp2 = temp.melt(id_vars=['tier', 'tier_num']).sort_values('tier_num', ascending=True)\n",
    "temp2.columns = ('Tier', 'tier_num', 'Stat', 'Average')\n",
    "\n",
    "sns.set_context('talk')\n",
    "fig, ax = plt.subplots(1,2, figsize=(25,8))\n",
    "g=sns.factorplot(x=\"Tier\", y=\"Average\", hue_order=['hp', 'atk', 'def', 'spa', 'spd', 'spe'], hue=\"Stat\", data=temp2,\n",
    "                   kind=\"bar\", palette=\"muted\", aspect=1.5, ax=ax[0])\n",
    "g2=sns.factorplot(x=\"Tier\", y=\"Average\", hue_order=['bst'],hue=\"Stat\", data=temp2,\n",
    "                   kind=\"bar\", palette=\"muted\", aspect=1.5,  ax=ax[1])\n",
    "plt.close(g.fig)\n",
    "plt.close(g2.fig)"
   ]
  },
  {
   "cell_type": "markdown",
   "metadata": {},
   "source": [
    "As expected, there is a correlation between how the level of the tier and the pokemon's stats. Interestingly, attack and special attack stats tend to become more prominent in the higher tiers, indicating a more offensive playstyle in these tiers. Also, RU seems to have a lower average speed than NU but higher defensive stats than UU, indicating a particularly defensive playstyle in this tier.\n",
    "\n",
    "In competitive pokemon, there are various user-made classifications of pokemon that describe the distribution of their stats and typical movesets. For example, a pokemon with high special/attack and speed stats is typically a sweeper; high HP and defense(s) is a wall; high special/attack and reasonable defenses with low speed is a tank; and etc. \n",
    "\n",
    "All the tiers tend to have all the different classifications, so it is unlikely that we will be able to cluster based on stats alone. Let's use Principal Component Analysis to plot all the stats onto a 2D scatter plot to see if this is true."
   ]
  },
  {
   "cell_type": "code",
   "execution_count": 66,
   "metadata": {},
   "outputs": [
    {
     "name": "stdout",
     "output_type": "stream",
     "text": [
      "Variation per principal component: [0.28036344 0.2397493  0.1916674  0.13833584 0.09038911 0.05949491]\n"
     ]
    },
    {
     "data": {
      "image/png": "[encoded data removed]",
      "text/plain": [
       "<Figure size 438.05x360 with 1 Axes>"
      ]
     },
     "metadata": {},
     "output_type": "display_data"
    }
   ],
   "source": [
    "from sklearn.decomposition import PCA\n",
    "\n",
    "pca = PCA(n_components=6)\n",
    "pca_result = pca.fit_transform(df[['hp', 'atk', 'def', 'spa', 'spd', 'spe']].values)\n",
    "df['pca_1'] = pca_result[:,0]\n",
    "df['pca_2'] = pca_result[:,1] \n",
    "print(f'Variation per principal component: {pca.explained_variance_ratio_}')\n",
    "g = sns.lmplot(data = df, x='pca_1', y='pca_2', hue='tier', fit_reg=False)"
   ]
  },
  {
   "cell_type": "markdown",
   "metadata": {},
   "source": [
    "The first two components make up about 52% of the variance; however, as expected, it is hard to distinguish any meaningful relationships. Though there some information, as the weakest tier, PU, dominates the bottom left while the highest tier, Uber, dominates the upper right. This likely represents the magnitude of the stats of the pokemon in those tiers moreso than the distributions themselves."
   ]
  },
  {
   "cell_type": "code",
   "execution_count": null,
   "metadata": {},
   "outputs": [],
   "source": []
  }
 ],
 "metadata": {
  "kernelspec": {
   "display_name": "Python 3",
   "language": "python",
   "name": "python3"
  },
  "language_info": {
   "codemirror_mode": {
    "name": "ipython",
    "version": 3
   },
   "file_extension": ".py",
   "mimetype": "text/x-python",
   "name": "python",
   "nbconvert_exporter": "python",
   "pygments_lexer": "ipython3",
   "version": "3.6.2"
  }
 },
 "nbformat": 4,
 "nbformat_minor": 2
}
